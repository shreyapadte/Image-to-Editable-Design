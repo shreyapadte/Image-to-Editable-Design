{
  "cells": [
    {
      "cell_type": "code",
      "execution_count": 1,
      "metadata": {
        "colab": {
          "base_uri": "https://localhost:8080/"
        },
        "id": "B2L83iwpgLmL",
        "outputId": "371bf333-9960-4e86-860b-9e55eeafb8d2"
      },
      "outputs": [
        {
          "output_type": "stream",
          "name": "stdout",
          "text": [
            "Collecting easyocr\n",
            "  Downloading easyocr-1.7.1-py3-none-any.whl (2.9 MB)\n",
            "\u001b[?25l     \u001b[90m━━━━━━━━━━━━━━━━━━━━━━━━━━━━━━━━━━━━━━━━\u001b[0m \u001b[32m0.0/2.9 MB\u001b[0m \u001b[31m?\u001b[0m eta \u001b[36m-:--:--\u001b[0m\r\u001b[2K     \u001b[91m━━\u001b[0m\u001b[90m╺\u001b[0m\u001b[90m━━━━━━━━━━━━━━━━━━━━━━━━━━━━━━━━━━━━━\u001b[0m \u001b[32m0.2/2.9 MB\u001b[0m \u001b[31m4.3 MB/s\u001b[0m eta \u001b[36m0:00:01\u001b[0m\r\u001b[2K     \u001b[91m━━━━━━━━━━━━━━━━━━━━━━━━━━━━━━━━━━━━━━━\u001b[0m\u001b[91m╸\u001b[0m \u001b[32m2.9/2.9 MB\u001b[0m \u001b[31m43.3 MB/s\u001b[0m eta \u001b[36m0:00:01\u001b[0m\r\u001b[2K     \u001b[90m━━━━━━━━━━━━━━━━━━━━━━━━━━━━━━━━━━━━━━━━\u001b[0m \u001b[32m2.9/2.9 MB\u001b[0m \u001b[31m32.9 MB/s\u001b[0m eta \u001b[36m0:00:00\u001b[0m\n",
            "\u001b[?25hRequirement already satisfied: torch in /usr/local/lib/python3.10/dist-packages (from easyocr) (2.1.0+cu121)\n",
            "Requirement already satisfied: torchvision>=0.5 in /usr/local/lib/python3.10/dist-packages (from easyocr) (0.16.0+cu121)\n",
            "Requirement already satisfied: opencv-python-headless in /usr/local/lib/python3.10/dist-packages (from easyocr) (4.8.1.78)\n",
            "Requirement already satisfied: scipy in /usr/local/lib/python3.10/dist-packages (from easyocr) (1.11.4)\n",
            "Requirement already satisfied: numpy in /usr/local/lib/python3.10/dist-packages (from easyocr) (1.23.5)\n",
            "Requirement already satisfied: Pillow in /usr/local/lib/python3.10/dist-packages (from easyocr) (9.4.0)\n",
            "Requirement already satisfied: scikit-image in /usr/local/lib/python3.10/dist-packages (from easyocr) (0.19.3)\n",
            "Collecting python-bidi (from easyocr)\n",
            "  Downloading python_bidi-0.4.2-py2.py3-none-any.whl (30 kB)\n",
            "Requirement already satisfied: PyYAML in /usr/local/lib/python3.10/dist-packages (from easyocr) (6.0.1)\n",
            "Requirement already satisfied: Shapely in /usr/local/lib/python3.10/dist-packages (from easyocr) (2.0.2)\n",
            "Collecting pyclipper (from easyocr)\n",
            "  Downloading pyclipper-1.3.0.post5-cp310-cp310-manylinux_2_12_x86_64.manylinux2010_x86_64.whl (908 kB)\n",
            "\u001b[2K     \u001b[90m━━━━━━━━━━━━━━━━━━━━━━━━━━━━━━━━━━━━━━━━\u001b[0m \u001b[32m908.3/908.3 kB\u001b[0m \u001b[31m48.7 MB/s\u001b[0m eta \u001b[36m0:00:00\u001b[0m\n",
            "\u001b[?25hCollecting ninja (from easyocr)\n",
            "  Downloading ninja-1.11.1.1-py2.py3-none-manylinux1_x86_64.manylinux_2_5_x86_64.whl (307 kB)\n",
            "\u001b[2K     \u001b[90m━━━━━━━━━━━━━━━━━━━━━━━━━━━━━━━━━━━━━━━━\u001b[0m \u001b[32m307.2/307.2 kB\u001b[0m \u001b[31m26.1 MB/s\u001b[0m eta \u001b[36m0:00:00\u001b[0m\n",
            "\u001b[?25hRequirement already satisfied: requests in /usr/local/lib/python3.10/dist-packages (from torchvision>=0.5->easyocr) (2.31.0)\n",
            "Requirement already satisfied: filelock in /usr/local/lib/python3.10/dist-packages (from torch->easyocr) (3.13.1)\n",
            "Requirement already satisfied: typing-extensions in /usr/local/lib/python3.10/dist-packages (from torch->easyocr) (4.5.0)\n",
            "Requirement already satisfied: sympy in /usr/local/lib/python3.10/dist-packages (from torch->easyocr) (1.12)\n",
            "Requirement already satisfied: networkx in /usr/local/lib/python3.10/dist-packages (from torch->easyocr) (3.2.1)\n",
            "Requirement already satisfied: jinja2 in /usr/local/lib/python3.10/dist-packages (from torch->easyocr) (3.1.2)\n",
            "Requirement already satisfied: fsspec in /usr/local/lib/python3.10/dist-packages (from torch->easyocr) (2023.6.0)\n",
            "Requirement already satisfied: triton==2.1.0 in /usr/local/lib/python3.10/dist-packages (from torch->easyocr) (2.1.0)\n",
            "Requirement already satisfied: six in /usr/local/lib/python3.10/dist-packages (from python-bidi->easyocr) (1.16.0)\n",
            "Requirement already satisfied: imageio>=2.4.1 in /usr/local/lib/python3.10/dist-packages (from scikit-image->easyocr) (2.31.6)\n",
            "Requirement already satisfied: tifffile>=2019.7.26 in /usr/local/lib/python3.10/dist-packages (from scikit-image->easyocr) (2023.12.9)\n",
            "Requirement already satisfied: PyWavelets>=1.1.1 in /usr/local/lib/python3.10/dist-packages (from scikit-image->easyocr) (1.5.0)\n",
            "Requirement already satisfied: packaging>=20.0 in /usr/local/lib/python3.10/dist-packages (from scikit-image->easyocr) (23.2)\n",
            "Requirement already satisfied: MarkupSafe>=2.0 in /usr/local/lib/python3.10/dist-packages (from jinja2->torch->easyocr) (2.1.3)\n",
            "Requirement already satisfied: charset-normalizer<4,>=2 in /usr/local/lib/python3.10/dist-packages (from requests->torchvision>=0.5->easyocr) (3.3.2)\n",
            "Requirement already satisfied: idna<4,>=2.5 in /usr/local/lib/python3.10/dist-packages (from requests->torchvision>=0.5->easyocr) (3.6)\n",
            "Requirement already satisfied: urllib3<3,>=1.21.1 in /usr/local/lib/python3.10/dist-packages (from requests->torchvision>=0.5->easyocr) (2.0.7)\n",
            "Requirement already satisfied: certifi>=2017.4.17 in /usr/local/lib/python3.10/dist-packages (from requests->torchvision>=0.5->easyocr) (2023.11.17)\n",
            "Requirement already satisfied: mpmath>=0.19 in /usr/local/lib/python3.10/dist-packages (from sympy->torch->easyocr) (1.3.0)\n",
            "Installing collected packages: pyclipper, ninja, python-bidi, easyocr\n",
            "Successfully installed easyocr-1.7.1 ninja-1.11.1.1 pyclipper-1.3.0.post5 python-bidi-0.4.2\n"
          ]
        }
      ],
      "source": [
        "!pip install easyocr #commandline command"
      ]
    },
    {
      "cell_type": "code",
      "execution_count": 2,
      "metadata": {
        "colab": {
          "base_uri": "https://localhost:8080/"
        },
        "id": "YbzaHIvcg-TX",
        "outputId": "4305ad0b-a89c-4e59-f7cb-3ca9fbedc1f3"
      },
      "outputs": [
        {
          "output_type": "stream",
          "name": "stderr",
          "text": [
            "WARNING:easyocr.easyocr:Downloading detection model, please wait. This may take several minutes depending upon your network connection.\n"
          ]
        },
        {
          "output_type": "stream",
          "name": "stdout",
          "text": [
            "Progress: |██████████████████████████████████████████████████| 100.0% Complete"
          ]
        },
        {
          "output_type": "stream",
          "name": "stderr",
          "text": [
            "WARNING:easyocr.easyocr:Downloading recognition model, please wait. This may take several minutes depending upon your network connection.\n"
          ]
        },
        {
          "output_type": "stream",
          "name": "stdout",
          "text": [
            "Progress: |██████████████████████████████████████████████████| 100.0% Complete"
          ]
        }
      ],
      "source": [
        "import easyocr\n",
        "reader = easyocr.Reader(['en']) # this needs to run only once to load the model into memory\n",
        "result = reader.readtext(\"/content/sample_data/Test/design_010.png\")"
      ]
    },
    {
      "cell_type": "code",
      "execution_count": 3,
      "metadata": {
        "colab": {
          "base_uri": "https://localhost:8080/"
        },
        "id": "tGKSrXq7jxjN",
        "outputId": "0592672c-4598-4ba4-8582-8be09cd081ae"
      },
      "outputs": [
        {
          "output_type": "execute_result",
          "data": {
            "text/plain": [
              "[([[576, 175], [845, 175], [845, 226], [576, 226]],\n",
              "  'Atlan Club',\n",
              "  0.7502846814396569),\n",
              " ([[859, 173], [1284, 173], [1284, 235], [859, 235]],\n",
              "  'Marina presents',\n",
              "  0.9997065828916157),\n",
              " ([[111, 663], [473, 663], [473, 795], [111, 795]],\n",
              "  'HOLI',\n",
              "  0.7610428333282471),\n",
              " ([[110, 799], [627, 799], [627, 932], [110, 932]],\n",
              "  'PARTY',\n",
              "  0.612394024453518),\n",
              " ([[108, 974], [464, 974], [464, 1050], [108, 1050]],\n",
              "  'Celebrate',\n",
              "  0.9998693417458959),\n",
              " ([[104, 1062], [496, 1062], [496, 1138], [104, 1138]],\n",
              "  'the festival',\n",
              "  0.8970538090094371),\n",
              " ([[108, 1152], [420, 1152], [420, 1228], [108, 1228]],\n",
              "  'Of colors',\n",
              "  0.8219737031995439),\n",
              " ([[193, 1583], [271, 1583], [271, 1627], [193, 1627]],\n",
              "  'PM',\n",
              "  0.9998465046283551),\n",
              " ([[296, 1578], [516, 1578], [516, 1630], [296, 1630]],\n",
              "  'March 28',\n",
              "  0.9127539823294686),\n",
              " ([[156, 1635], [865, 1635], [865, 1704], [156, 1704]],\n",
              "  'Atlan Club Marina Parking Area',\n",
              "  0.8064463881923444),\n",
              " ([[155, 1701], [971, 1701], [971, 1766], [155, 1766]],\n",
              "  'Block-1 Atlantia Street; Maxina City',\n",
              "  0.7474482280757754),\n",
              " ([[583, 1999], [1219, 1999], [1219, 2059], [583, 2059]],\n",
              "  'Visit wwwrealygreatsitecom',\n",
              "  0.7827724151821281),\n",
              " ([[580, 2061], [1290, 2061], [1290, 2112], [580, 2112]],\n",
              "  'for tickets and more information',\n",
              "  0.9680141400927835)]"
            ]
          },
          "metadata": {},
          "execution_count": 3
        }
      ],
      "source": [
        "result #bounding boxes, word, confidence"
      ]
    },
    {
      "cell_type": "code",
      "execution_count": 4,
      "metadata": {
        "colab": {
          "base_uri": "https://localhost:8080/"
        },
        "id": "gcICOMl4r5pp",
        "outputId": "3e084d25-b048-40ea-dc64-20b680b47b34"
      },
      "outputs": [
        {
          "output_type": "execute_result",
          "data": {
            "text/plain": [
              "13"
            ]
          },
          "metadata": {},
          "execution_count": 4
        }
      ],
      "source": [
        "len(result)"
      ]
    },
    {
      "cell_type": "code",
      "execution_count": 5,
      "metadata": {
        "colab": {
          "base_uri": "https://localhost:8080/"
        },
        "id": "soDpLUIorlAL",
        "outputId": "48f5a161-111c-4e96-be38-519b144737b7"
      },
      "outputs": [
        {
          "output_type": "execute_result",
          "data": {
            "text/plain": [
              "list"
            ]
          },
          "metadata": {},
          "execution_count": 5
        }
      ],
      "source": [
        "type(result)"
      ]
    },
    {
      "cell_type": "code",
      "execution_count": 6,
      "metadata": {
        "colab": {
          "base_uri": "https://localhost:8080/"
        },
        "id": "4IpBiS1atHBj",
        "outputId": "8538d616-36f7-4182-c069-e2ed10d84792"
      },
      "outputs": [
        {
          "output_type": "execute_result",
          "data": {
            "text/plain": [
              "tuple"
            ]
          },
          "metadata": {},
          "execution_count": 6
        }
      ],
      "source": [
        "type(result[0])"
      ]
    },
    {
      "cell_type": "code",
      "execution_count": 7,
      "metadata": {
        "colab": {
          "base_uri": "https://localhost:8080/"
        },
        "id": "is1irTketLpX",
        "outputId": "1aaf6975-c200-4cc7-aaa6-20a94b255a5e"
      },
      "outputs": [
        {
          "output_type": "execute_result",
          "data": {
            "text/plain": [
              "([[576, 175], [845, 175], [845, 226], [576, 226]],\n",
              " 'Atlan Club',\n",
              " 0.7502846814396569)"
            ]
          },
          "metadata": {},
          "execution_count": 7
        }
      ],
      "source": [
        "result[0]"
      ]
    },
    {
      "cell_type": "code",
      "execution_count": 8,
      "metadata": {
        "colab": {
          "base_uri": "https://localhost:8080/"
        },
        "id": "P7liGuDItbig",
        "outputId": "eb2eccc1-ce25-4a47-d1c1-d8ea11173b50"
      },
      "outputs": [
        {
          "output_type": "execute_result",
          "data": {
            "text/plain": [
              "3"
            ]
          },
          "metadata": {},
          "execution_count": 8
        }
      ],
      "source": [
        "len(result[0])"
      ]
    },
    {
      "cell_type": "code",
      "execution_count": 9,
      "metadata": {
        "colab": {
          "base_uri": "https://localhost:8080/"
        },
        "id": "5JSG7s8Jtmvf",
        "outputId": "76ad4c26-e76d-489b-84ec-33151c1faadc"
      },
      "outputs": [
        {
          "output_type": "stream",
          "name": "stdout",
          "text": [
            "([[576, 175], [845, 175], [845, 226], [576, 226]], 'Atlan Club', 0.7502846814396569)\n"
          ]
        }
      ],
      "source": [
        "print(result[0])"
      ]
    },
    {
      "cell_type": "markdown",
      "metadata": {
        "id": "lUWkcnX0rko_"
      },
      "source": []
    },
    {
      "cell_type": "markdown",
      "metadata": {
        "id": "hFlC9OajldKI"
      },
      "source": [
        "### Generating Mask using bounding box info"
      ]
    },
    {
      "cell_type": "code",
      "execution_count": 10,
      "metadata": {
        "id": "5hl9C7MMlhZo"
      },
      "outputs": [],
      "source": [
        "import numpy as np"
      ]
    },
    {
      "cell_type": "code",
      "execution_count": 11,
      "metadata": {
        "id": "F6v6HcmPlowj"
      },
      "outputs": [],
      "source": [
        "import matplotlib.pyplot as plt # to display images\n",
        "from PIL import Image # all notebooks have internal support for PIL"
      ]
    },
    {
      "cell_type": "code",
      "execution_count": 12,
      "metadata": {
        "id": "nw3qb0a8msaE"
      },
      "outputs": [],
      "source": [
        "image = Image.open(\"/content/sample_data/Test/design_010.png\")"
      ]
    },
    {
      "cell_type": "code",
      "execution_count": 13,
      "metadata": {
        "colab": {
          "base_uri": "https://localhost:8080/"
        },
        "id": "4LM-EjuPnMiB",
        "outputId": "2e82a9d8-1e00-47b3-dadb-6b0003033265"
      },
      "outputs": [
        {
          "output_type": "execute_result",
          "data": {
            "text/plain": [
              "2245"
            ]
          },
          "metadata": {},
          "execution_count": 13
        }
      ],
      "source": [
        "image.height"
      ]
    },
    {
      "cell_type": "code",
      "execution_count": 14,
      "metadata": {
        "colab": {
          "base_uri": "https://localhost:8080/"
        },
        "id": "pFq7tlp7nbzp",
        "outputId": "9d56efcb-28ac-4789-81fa-dfc48ef9f4d3"
      },
      "outputs": [
        {
          "output_type": "execute_result",
          "data": {
            "text/plain": [
              "1587"
            ]
          },
          "metadata": {},
          "execution_count": 14
        }
      ],
      "source": [
        "image.width"
      ]
    },
    {
      "cell_type": "code",
      "execution_count": 15,
      "metadata": {
        "id": "STcq4wGmnv2y"
      },
      "outputs": [],
      "source": [
        "mask = np.zeros((image.height,image.width))"
      ]
    },
    {
      "cell_type": "code",
      "execution_count": 16,
      "metadata": {
        "colab": {
          "base_uri": "https://localhost:8080/",
          "height": 453
        },
        "id": "K9rwduDHpjVc",
        "outputId": "46adafcd-4122-4ff8-f8d2-5ca2f2cf7aeb"
      },
      "outputs": [
        {
          "output_type": "execute_result",
          "data": {
            "text/plain": [
              "<matplotlib.image.AxesImage at 0x78c6c0d5c370>"
            ]
          },
          "metadata": {},
          "execution_count": 16
        },
        {
          "output_type": "display_data",
          "data": {
            "text/plain": [
              "<Figure size 640x480 with 1 Axes>"
            ],
            "image/png": "[encoded data removed]"
          },
          "metadata": {}
        }
      ],
      "source": [
        "plt.imshow(mask,cmap = 'gray') #setting colormap to gray; imshow: displays your numpy array doesnt change anything"
      ]
    },
    {
      "cell_type": "code",
      "execution_count": 17,
      "metadata": {
        "colab": {
          "base_uri": "https://localhost:8080/"
        },
        "id": "WlkczOMsyGPY",
        "outputId": "b2326f5f-f9e0-41c0-ec38-7ba3402999df"
      },
      "outputs": [
        {
          "output_type": "stream",
          "name": "stdout",
          "text": [
            "[576, 175] [845, 226]\n",
            "[859, 173] [1284, 235]\n",
            "[111, 663] [473, 795]\n",
            "[110, 799] [627, 932]\n",
            "[108, 974] [464, 1050]\n",
            "[104, 1062] [496, 1138]\n",
            "[108, 1152] [420, 1228]\n",
            "[193, 1583] [271, 1627]\n",
            "[296, 1578] [516, 1630]\n",
            "[156, 1635] [865, 1704]\n",
            "[155, 1701] [971, 1766]\n",
            "[583, 1999] [1219, 2059]\n",
            "[580, 2061] [1290, 2112]\n"
          ]
        }
      ],
      "source": [
        "for i in result:\n",
        "  coord = i[0]\n",
        "  top_left = coord[0]\n",
        "  bottom_right = coord[2]\n",
        "  print(top_left,bottom_right)\n",
        "  mask[top_left[1]:bottom_right[1]+1, top_left[0]:bottom_right[0]+1] = 1 #height first then weight"
      ]
    },
    {
      "cell_type": "code",
      "execution_count": 18,
      "metadata": {
        "colab": {
          "base_uri": "https://localhost:8080/",
          "height": 453
        },
        "id": "xaEIVjBVrHX-",
        "outputId": "b1b5d249-20b1-4312-8925-d0493325273d"
      },
      "outputs": [
        {
          "output_type": "execute_result",
          "data": {
            "text/plain": [
              "<matplotlib.image.AxesImage at 0x78c6c0e1e110>"
            ]
          },
          "metadata": {},
          "execution_count": 18
        },
        {
          "output_type": "display_data",
          "data": {
            "text/plain": [
              "<Figure size 640x480 with 1 Axes>"
            ],
            "image/png": "[encoded data removed]"
          },
          "metadata": {}
        }
      ],
      "source": [
        "plt.imshow(mask,cmap = 'gray')"
      ]
    },
    {
      "cell_type": "markdown",
      "metadata": {
        "id": "YMTiCKaM3zRi"
      },
      "source": [
        "# Inpainting\n"
      ]
    },
    {
      "cell_type": "markdown",
      "metadata": {
        "id": "LpzFxScCJ6mG"
      },
      "source": [
        ">The mask we created has one channel where as while inpainting we are expected to have 3 channels which is why we will have to repeat the mask 3 times\n",
        "\n",
        "> We convert the numpy array into PIL image by replacing the 1 with 255 (PIL always expects the INT scale)\n",
        ">There are Two kinds of scales:\n",
        "1. Floats -> 0 to 1.. intermediate values are decimal values\n",
        "2. Integers -> 0 to 255.. intermediate values are integer values\n"
      ]
    },
    {
      "cell_type": "code",
      "execution_count": 19,
      "metadata": {
        "id": "UjOGzzvB340f"
      },
      "outputs": [],
      "source": [
        "mask = mask * 255\n",
        "mask = mask.astype(np.uint8) #to change matrix into int"
      ]
    },
    {
      "cell_type": "code",
      "execution_count": 20,
      "metadata": {
        "id": "Uq3-DHrCO7wr"
      },
      "outputs": [],
      "source": [
        "Image.fromarray(mask).convert('RGB').save(\"/content/sample_data/Test/design_010_mask001.png\")"
      ]
    },
    {
      "cell_type": "code",
      "execution_count": 21,
      "metadata": {
        "colab": {
          "base_uri": "https://localhost:8080/"
        },
        "id": "9wQx2PsfPZC9",
        "outputId": "e4e31896-9cd2-43be-b429-72e9ccfa9136"
      },
      "outputs": [
        {
          "output_type": "stream",
          "name": "stdout",
          "text": [
            "Cloning into 'lama'...\n",
            "remote: Enumerating objects: 443, done.\u001b[K\n",
            "remote: Counting objects: 100% (443/443), done.\u001b[K\n",
            "remote: Compressing objects: 100% (283/283), done.\u001b[K\n",
            "remote: Total 443 (delta 171), reused 296 (delta 141), pack-reused 0\u001b[K\n",
            "Receiving objects: 100% (443/443), 6.53 MiB | 19.79 MiB/s, done.\n",
            "Resolving deltas: 100% (171/171), done.\n"
          ]
        }
      ],
      "source": [
        "!git clone https://github.com/advimman/lama.git"
      ]
    },
    {
      "cell_type": "code",
      "execution_count": 22,
      "metadata": {
        "colab": {
          "base_uri": "https://localhost:8080/"
        },
        "id": "RAfgr1iiRYEA",
        "outputId": "17ebd7de-bfc3-4dc3-d06f-16a795e8382f"
      },
      "outputs": [
        {
          "output_type": "stream",
          "name": "stdout",
          "text": [
            "/content/lama\n"
          ]
        }
      ],
      "source": [
        "%cd lama"
      ]
    },
    {
      "cell_type": "code",
      "execution_count": 23,
      "metadata": {
        "colab": {
          "base_uri": "https://localhost:8080/"
        },
        "id": "E0OQSQZqRtW4",
        "outputId": "b7395ed4-46a9-4149-9031-37d7a0c050c0"
      },
      "outputs": [
        {
          "output_type": "stream",
          "name": "stdout",
          "text": [
            "  % Total    % Received % Xferd  Average Speed   Time    Time     Time  Current\n",
            "                                 Dload  Upload   Total   Spent    Left  Speed\n",
            "100  1199  100  1199    0     0   3437      0 --:--:-- --:--:-- --:--:--  3445\n",
            "100  363M  100  363M    0     0   233M      0  0:00:01  0:00:01 --:--:--  329M\n",
            "Archive:  big-lama.zip\n",
            "  inflating: big-lama/config.yaml    \n",
            "  inflating: big-lama/models/best.ckpt  \n"
          ]
        }
      ],
      "source": [
        "!curl -LJO https://huggingface.co/smartywu/big-lama/resolve/main/big-lama.zip\n",
        "!unzip big-lama.zip"
      ]
    },
    {
      "cell_type": "code",
      "execution_count": 24,
      "metadata": {
        "id": "09KCyLuASEXN"
      },
      "outputs": [],
      "source": [
        "!cp bin/predict.py predict.py"
      ]
    },
    {
      "cell_type": "code",
      "execution_count": 28,
      "metadata": {
        "colab": {
          "base_uri": "https://localhost:8080/",
          "height": 1000
        },
        "id": "J0Wer_obSaDH",
        "outputId": "075e1b30-8a68-49dc-fd4e-076eeecf38a9"
      },
      "outputs": [
        {
          "output_type": "stream",
          "name": "stdout",
          "text": [
            "Requirement already satisfied: opencv-python in /usr/local/lib/python3.10/dist-packages (from -r requirements.txt (line 1)) (4.8.0.76)\n",
            "Requirement already satisfied: scikit-learn in /usr/local/lib/python3.10/dist-packages (from -r requirements.txt (line 2)) (1.2.2)\n",
            "Requirement already satisfied: scikit-image in /usr/local/lib/python3.10/dist-packages (from -r requirements.txt (line 3)) (0.19.3)\n",
            "Requirement already satisfied: pyyaml in /usr/local/lib/python3.10/dist-packages (from -r requirements.txt (line 4)) (6.0.1)\n",
            "Requirement already satisfied: tqdm in /usr/local/lib/python3.10/dist-packages (from -r requirements.txt (line 5)) (4.66.1)\n",
            "Collecting easydict==1.9.0 (from -r requirements.txt (line 6))\n",
            "  Using cached easydict-1.9.tar.gz (6.4 kB)\n",
            "  Preparing metadata (setup.py) ... \u001b[?25l\u001b[?25hdone\n",
            "Requirement already satisfied: joblib in /usr/local/lib/python3.10/dist-packages (from -r requirements.txt (line 7)) (1.3.2)\n",
            "Requirement already satisfied: pandas in /usr/local/lib/python3.10/dist-packages (from -r requirements.txt (line 8)) (1.5.3)\n",
            "Collecting albumentations==0.5.2 (from -r requirements.txt (line 9))\n",
            "  Downloading albumentations-0.5.2-py3-none-any.whl (72 kB)\n",
            "\u001b[2K     \u001b[90m━━━━━━━━━━━━━━━━━━━━━━━━━━━━━━━━━━━━━━━━\u001b[0m \u001b[32m72.2/72.2 kB\u001b[0m \u001b[31m1.7 MB/s\u001b[0m eta \u001b[36m0:00:00\u001b[0m\n",
            "\u001b[?25hCollecting hydra-core==1.1.0 (from -r requirements.txt (line 10))\n",
            "  Downloading hydra_core-1.1.0-py3-none-any.whl (144 kB)\n",
            "\u001b[2K     \u001b[90m━━━━━━━━━━━━━━━━━━━━━━━━━━━━━━━━━━━━━━━━\u001b[0m \u001b[32m144.6/144.6 kB\u001b[0m \u001b[31m6.3 MB/s\u001b[0m eta \u001b[36m0:00:00\u001b[0m\n",
            "\u001b[?25hCollecting pytorch-lightning==1.2.9 (from -r requirements.txt (line 11))\n",
            "  Downloading pytorch_lightning-1.2.9-py3-none-any.whl (841 kB)\n",
            "\u001b[2K     \u001b[90m━━━━━━━━━━━━━━━━━━━━━━━━━━━━━━━━━━━━━━━━\u001b[0m \u001b[32m841.9/841.9 kB\u001b[0m \u001b[31m61.1 MB/s\u001b[0m eta \u001b[36m0:00:00\u001b[0m\n",
            "\u001b[?25hRequirement already satisfied: tabulate in /usr/local/lib/python3.10/dist-packages (from -r requirements.txt (line 12)) (0.9.0)\n",
            "Collecting kornia==0.5.0 (from -r requirements.txt (line 13))\n",
            "  Downloading kornia-0.5.0-py2.py3-none-any.whl (271 kB)\n",
            "\u001b[2K     \u001b[90m━━━━━━━━━━━━━━━━━━━━━━━━━━━━━━━━━━━━━━━━\u001b[0m \u001b[32m271.5/271.5 kB\u001b[0m \u001b[31m35.2 MB/s\u001b[0m eta \u001b[36m0:00:00\u001b[0m\n",
            "\u001b[?25hCollecting webdataset (from -r requirements.txt (line 14))\n",
            "  Downloading webdataset-0.2.86-py3-none-any.whl (70 kB)\n",
            "\u001b[2K     \u001b[90m━━━━━━━━━━━━━━━━━━━━━━━━━━━━━━━━━━━━━━━━\u001b[0m \u001b[32m70.4/70.4 kB\u001b[0m \u001b[31m11.5 MB/s\u001b[0m eta \u001b[36m0:00:00\u001b[0m\n",
            "\u001b[?25hRequirement already satisfied: packaging in /usr/local/lib/python3.10/dist-packages (from -r requirements.txt (line 15)) (23.2)\n",
            "Collecting wldhx.yadisk-direct (from -r requirements.txt (line 16))\n",
            "  Downloading wldhx.yadisk_direct-0.0.6-py3-none-any.whl (4.5 kB)\n",
            "Requirement already satisfied: numpy>=1.11.1 in /usr/local/lib/python3.10/dist-packages (from albumentations==0.5.2->-r requirements.txt (line 9)) (1.23.5)\n",
            "Requirement already satisfied: scipy in /usr/local/lib/python3.10/dist-packages (from albumentations==0.5.2->-r requirements.txt (line 9)) (1.11.4)\n",
            "Requirement already satisfied: imgaug>=0.4.0 in /usr/local/lib/python3.10/dist-packages (from albumentations==0.5.2->-r requirements.txt (line 9)) (0.4.0)\n",
            "Requirement already satisfied: opencv-python-headless>=4.1.1 in /usr/local/lib/python3.10/dist-packages (from albumentations==0.5.2->-r requirements.txt (line 9)) (4.8.1.78)\n",
            "Collecting omegaconf==2.1.* (from hydra-core==1.1.0->-r requirements.txt (line 10))\n",
            "  Downloading omegaconf-2.1.2-py3-none-any.whl (74 kB)\n",
            "\u001b[2K     \u001b[90m━━━━━━━━━━━━━━━━━━━━━━━━━━━━━━━━━━━━━━━━\u001b[0m \u001b[32m74.7/74.7 kB\u001b[0m \u001b[31m11.1 MB/s\u001b[0m eta \u001b[36m0:00:00\u001b[0m\n",
            "\u001b[?25hCollecting antlr4-python3-runtime==4.8 (from hydra-core==1.1.0->-r requirements.txt (line 10))\n",
            "  Downloading antlr4-python3-runtime-4.8.tar.gz (112 kB)\n",
            "\u001b[2K     \u001b[90m━━━━━━━━━━━━━━━━━━━━━━━━━━━━━━━━━━━━━━━━\u001b[0m \u001b[32m112.4/112.4 kB\u001b[0m \u001b[31m16.6 MB/s\u001b[0m eta \u001b[36m0:00:00\u001b[0m\n",
            "\u001b[?25h  Preparing metadata (setup.py) ... \u001b[?25l\u001b[?25hdone\n",
            "Requirement already satisfied: torch>=1.4 in /usr/local/lib/python3.10/dist-packages (from pytorch-lightning==1.2.9->-r requirements.txt (line 11)) (2.1.0+cu121)\n",
            "Requirement already satisfied: future>=0.17.1 in /usr/local/lib/python3.10/dist-packages (from pytorch-lightning==1.2.9->-r requirements.txt (line 11)) (0.18.3)\n",
            "Requirement already satisfied: fsspec[http]>=0.8.1 in /usr/local/lib/python3.10/dist-packages (from pytorch-lightning==1.2.9->-r requirements.txt (line 11)) (2023.6.0)\n",
            "Requirement already satisfied: tensorboard!=2.5.0,>=2.2.0 in /usr/local/lib/python3.10/dist-packages (from pytorch-lightning==1.2.9->-r requirements.txt (line 11)) (2.15.1)\n",
            "Collecting torchmetrics==0.2.0 (from pytorch-lightning==1.2.9->-r requirements.txt (line 11))\n",
            "  Downloading torchmetrics-0.2.0-py3-none-any.whl (176 kB)\n",
            "\u001b[2K     \u001b[90m━━━━━━━━━━━━━━━━━━━━━━━━━━━━━━━━━━━━━━━━\u001b[0m \u001b[32m176.9/176.9 kB\u001b[0m \u001b[31m22.5 MB/s\u001b[0m eta \u001b[36m0:00:00\u001b[0m\n",
            "\u001b[?25hRequirement already satisfied: threadpoolctl>=2.0.0 in /usr/local/lib/python3.10/dist-packages (from scikit-learn->-r requirements.txt (line 2)) (3.2.0)\n",
            "Requirement already satisfied: networkx>=2.2 in /usr/local/lib/python3.10/dist-packages (from scikit-image->-r requirements.txt (line 3)) (3.2.1)\n",
            "Requirement already satisfied: pillow!=7.1.0,!=7.1.1,!=8.3.0,>=6.1.0 in /usr/local/lib/python3.10/dist-packages (from scikit-image->-r requirements.txt (line 3)) (9.4.0)\n",
            "Requirement already satisfied: imageio>=2.4.1 in /usr/local/lib/python3.10/dist-packages (from scikit-image->-r requirements.txt (line 3)) (2.31.6)\n",
            "Requirement already satisfied: tifffile>=2019.7.26 in /usr/local/lib/python3.10/dist-packages (from scikit-image->-r requirements.txt (line 3)) (2023.12.9)\n",
            "Requirement already satisfied: PyWavelets>=1.1.1 in /usr/local/lib/python3.10/dist-packages (from scikit-image->-r requirements.txt (line 3)) (1.5.0)\n",
            "Requirement already satisfied: python-dateutil>=2.8.1 in /usr/local/lib/python3.10/dist-packages (from pandas->-r requirements.txt (line 8)) (2.8.2)\n",
            "Requirement already satisfied: pytz>=2020.1 in /usr/local/lib/python3.10/dist-packages (from pandas->-r requirements.txt (line 8)) (2023.3.post1)\n",
            "Collecting braceexpand (from webdataset->-r requirements.txt (line 14))\n",
            "  Downloading braceexpand-0.1.7-py2.py3-none-any.whl (5.9 kB)\n",
            "Requirement already satisfied: requests in /usr/local/lib/python3.10/dist-packages (from wldhx.yadisk-direct->-r requirements.txt (line 16)) (2.31.0)\n",
            "Requirement already satisfied: aiohttp!=4.0.0a0,!=4.0.0a1 in /usr/local/lib/python3.10/dist-packages (from fsspec[http]>=0.8.1->pytorch-lightning==1.2.9->-r requirements.txt (line 11)) (3.9.1)\n",
            "Requirement already satisfied: six in /usr/local/lib/python3.10/dist-packages (from imgaug>=0.4.0->albumentations==0.5.2->-r requirements.txt (line 9)) (1.16.0)\n",
            "Requirement already satisfied: matplotlib in /usr/local/lib/python3.10/dist-packages (from imgaug>=0.4.0->albumentations==0.5.2->-r requirements.txt (line 9)) (3.7.1)\n",
            "Requirement already satisfied: Shapely in /usr/local/lib/python3.10/dist-packages (from imgaug>=0.4.0->albumentations==0.5.2->-r requirements.txt (line 9)) (2.0.2)\n",
            "Requirement already satisfied: absl-py>=0.4 in /usr/local/lib/python3.10/dist-packages (from tensorboard!=2.5.0,>=2.2.0->pytorch-lightning==1.2.9->-r requirements.txt (line 11)) (1.4.0)\n",
            "Requirement already satisfied: grpcio>=1.48.2 in /usr/local/lib/python3.10/dist-packages (from tensorboard!=2.5.0,>=2.2.0->pytorch-lightning==1.2.9->-r requirements.txt (line 11)) (1.60.0)\n",
            "Requirement already satisfied: google-auth<3,>=1.6.3 in /usr/local/lib/python3.10/dist-packages (from tensorboard!=2.5.0,>=2.2.0->pytorch-lightning==1.2.9->-r requirements.txt (line 11)) (2.17.3)\n",
            "Requirement already satisfied: google-auth-oauthlib<2,>=0.5 in /usr/local/lib/python3.10/dist-packages (from tensorboard!=2.5.0,>=2.2.0->pytorch-lightning==1.2.9->-r requirements.txt (line 11)) (1.2.0)\n",
            "Requirement already satisfied: markdown>=2.6.8 in /usr/local/lib/python3.10/dist-packages (from tensorboard!=2.5.0,>=2.2.0->pytorch-lightning==1.2.9->-r requirements.txt (line 11)) (3.5.1)\n",
            "Requirement already satisfied: protobuf<4.24,>=3.19.6 in /usr/local/lib/python3.10/dist-packages (from tensorboard!=2.5.0,>=2.2.0->pytorch-lightning==1.2.9->-r requirements.txt (line 11)) (3.20.3)\n",
            "Requirement already satisfied: setuptools>=41.0.0 in /usr/local/lib/python3.10/dist-packages (from tensorboard!=2.5.0,>=2.2.0->pytorch-lightning==1.2.9->-r requirements.txt (line 11)) (67.7.2)\n",
            "Requirement already satisfied: tensorboard-data-server<0.8.0,>=0.7.0 in /usr/local/lib/python3.10/dist-packages (from tensorboard!=2.5.0,>=2.2.0->pytorch-lightning==1.2.9->-r requirements.txt (line 11)) (0.7.2)\n",
            "Requirement already satisfied: werkzeug>=1.0.1 in /usr/local/lib/python3.10/dist-packages (from tensorboard!=2.5.0,>=2.2.0->pytorch-lightning==1.2.9->-r requirements.txt (line 11)) (3.0.1)\n",
            "Requirement already satisfied: charset-normalizer<4,>=2 in /usr/local/lib/python3.10/dist-packages (from requests->wldhx.yadisk-direct->-r requirements.txt (line 16)) (3.3.2)\n",
            "Requirement already satisfied: idna<4,>=2.5 in /usr/local/lib/python3.10/dist-packages (from requests->wldhx.yadisk-direct->-r requirements.txt (line 16)) (3.6)\n",
            "Requirement already satisfied: urllib3<3,>=1.21.1 in /usr/local/lib/python3.10/dist-packages (from requests->wldhx.yadisk-direct->-r requirements.txt (line 16)) (2.0.7)\n",
            "Requirement already satisfied: certifi>=2017.4.17 in /usr/local/lib/python3.10/dist-packages (from requests->wldhx.yadisk-direct->-r requirements.txt (line 16)) (2023.11.17)\n",
            "Requirement already satisfied: filelock in /usr/local/lib/python3.10/dist-packages (from torch>=1.4->pytorch-lightning==1.2.9->-r requirements.txt (line 11)) (3.13.1)\n",
            "Requirement already satisfied: typing-extensions in /usr/local/lib/python3.10/dist-packages (from torch>=1.4->pytorch-lightning==1.2.9->-r requirements.txt (line 11)) (4.5.0)\n",
            "Requirement already satisfied: sympy in /usr/local/lib/python3.10/dist-packages (from torch>=1.4->pytorch-lightning==1.2.9->-r requirements.txt (line 11)) (1.12)\n",
            "Requirement already satisfied: jinja2 in /usr/local/lib/python3.10/dist-packages (from torch>=1.4->pytorch-lightning==1.2.9->-r requirements.txt (line 11)) (3.1.2)\n",
            "Requirement already satisfied: triton==2.1.0 in /usr/local/lib/python3.10/dist-packages (from torch>=1.4->pytorch-lightning==1.2.9->-r requirements.txt (line 11)) (2.1.0)\n",
            "Requirement already satisfied: attrs>=17.3.0 in /usr/local/lib/python3.10/dist-packages (from aiohttp!=4.0.0a0,!=4.0.0a1->fsspec[http]>=0.8.1->pytorch-lightning==1.2.9->-r requirements.txt (line 11)) (23.1.0)\n",
            "Requirement already satisfied: multidict<7.0,>=4.5 in /usr/local/lib/python3.10/dist-packages (from aiohttp!=4.0.0a0,!=4.0.0a1->fsspec[http]>=0.8.1->pytorch-lightning==1.2.9->-r requirements.txt (line 11)) (6.0.4)\n",
            "Requirement already satisfied: yarl<2.0,>=1.0 in /usr/local/lib/python3.10/dist-packages (from aiohttp!=4.0.0a0,!=4.0.0a1->fsspec[http]>=0.8.1->pytorch-lightning==1.2.9->-r requirements.txt (line 11)) (1.9.4)\n",
            "Requirement already satisfied: frozenlist>=1.1.1 in /usr/local/lib/python3.10/dist-packages (from aiohttp!=4.0.0a0,!=4.0.0a1->fsspec[http]>=0.8.1->pytorch-lightning==1.2.9->-r requirements.txt (line 11)) (1.4.1)\n",
            "Requirement already satisfied: aiosignal>=1.1.2 in /usr/local/lib/python3.10/dist-packages (from aiohttp!=4.0.0a0,!=4.0.0a1->fsspec[http]>=0.8.1->pytorch-lightning==1.2.9->-r requirements.txt (line 11)) (1.3.1)\n",
            "Requirement already satisfied: async-timeout<5.0,>=4.0 in /usr/local/lib/python3.10/dist-packages (from aiohttp!=4.0.0a0,!=4.0.0a1->fsspec[http]>=0.8.1->pytorch-lightning==1.2.9->-r requirements.txt (line 11)) (4.0.3)\n",
            "Requirement already satisfied: cachetools<6.0,>=2.0.0 in /usr/local/lib/python3.10/dist-packages (from google-auth<3,>=1.6.3->tensorboard!=2.5.0,>=2.2.0->pytorch-lightning==1.2.9->-r requirements.txt (line 11)) (5.3.2)\n",
            "Requirement already satisfied: pyasn1-modules>=0.2.1 in /usr/local/lib/python3.10/dist-packages (from google-auth<3,>=1.6.3->tensorboard!=2.5.0,>=2.2.0->pytorch-lightning==1.2.9->-r requirements.txt (line 11)) (0.3.0)\n",
            "Requirement already satisfied: rsa<5,>=3.1.4 in /usr/local/lib/python3.10/dist-packages (from google-auth<3,>=1.6.3->tensorboard!=2.5.0,>=2.2.0->pytorch-lightning==1.2.9->-r requirements.txt (line 11)) (4.9)\n",
            "Requirement already satisfied: requests-oauthlib>=0.7.0 in /usr/local/lib/python3.10/dist-packages (from google-auth-oauthlib<2,>=0.5->tensorboard!=2.5.0,>=2.2.0->pytorch-lightning==1.2.9->-r requirements.txt (line 11)) (1.3.1)\n",
            "Requirement already satisfied: MarkupSafe>=2.1.1 in /usr/local/lib/python3.10/dist-packages (from werkzeug>=1.0.1->tensorboard!=2.5.0,>=2.2.0->pytorch-lightning==1.2.9->-r requirements.txt (line 11)) (2.1.3)\n",
            "Requirement already satisfied: contourpy>=1.0.1 in /usr/local/lib/python3.10/dist-packages (from matplotlib->imgaug>=0.4.0->albumentations==0.5.2->-r requirements.txt (line 9)) (1.2.0)\n",
            "Requirement already satisfied: cycler>=0.10 in /usr/local/lib/python3.10/dist-packages (from matplotlib->imgaug>=0.4.0->albumentations==0.5.2->-r requirements.txt (line 9)) (0.12.1)\n",
            "Requirement already satisfied: fonttools>=4.22.0 in /usr/local/lib/python3.10/dist-packages (from matplotlib->imgaug>=0.4.0->albumentations==0.5.2->-r requirements.txt (line 9)) (4.47.0)\n",
            "Requirement already satisfied: kiwisolver>=1.0.1 in /usr/local/lib/python3.10/dist-packages (from matplotlib->imgaug>=0.4.0->albumentations==0.5.2->-r requirements.txt (line 9)) (1.4.5)\n",
            "Requirement already satisfied: pyparsing>=2.3.1 in /usr/local/lib/python3.10/dist-packages (from matplotlib->imgaug>=0.4.0->albumentations==0.5.2->-r requirements.txt (line 9)) (3.1.1)\n",
            "Requirement already satisfied: mpmath>=0.19 in /usr/local/lib/python3.10/dist-packages (from sympy->torch>=1.4->pytorch-lightning==1.2.9->-r requirements.txt (line 11)) (1.3.0)\n",
            "Requirement already satisfied: pyasn1<0.6.0,>=0.4.6 in /usr/local/lib/python3.10/dist-packages (from pyasn1-modules>=0.2.1->google-auth<3,>=1.6.3->tensorboard!=2.5.0,>=2.2.0->pytorch-lightning==1.2.9->-r requirements.txt (line 11)) (0.5.1)\n",
            "Requirement already satisfied: oauthlib>=3.0.0 in /usr/local/lib/python3.10/dist-packages (from requests-oauthlib>=0.7.0->google-auth-oauthlib<2,>=0.5->tensorboard!=2.5.0,>=2.2.0->pytorch-lightning==1.2.9->-r requirements.txt (line 11)) (3.2.2)\n",
            "Building wheels for collected packages: easydict, antlr4-python3-runtime\n",
            "  Building wheel for easydict (setup.py) ... \u001b[?25l\u001b[?25hdone\n",
            "  Created wheel for easydict: filename=easydict-1.9-py3-none-any.whl size=6344 sha256=93cb6acdf2d9613374b7152089ab2faf15a6c3d3c52a37ebb0b576a202367167\n",
            "  Stored in directory: /root/.cache/pip/wheels/fd/d2/35/4c11d19a72280492846f4c4df975311a2bac475e8021f86c1d\n",
            "  Building wheel for antlr4-python3-runtime (setup.py) ... \u001b[?25l\u001b[?25hdone\n",
            "  Created wheel for antlr4-python3-runtime: filename=antlr4_python3_runtime-4.8-py3-none-any.whl size=141210 sha256=d357ec8e1ea5e88333250adce975a873a1c422fc9bc31dbfd91c3b11997e25e3\n",
            "  Stored in directory: /root/.cache/pip/wheels/a7/20/bd/e1477d664f22d99989fd28ee1a43d6633dddb5cb9e801350d5\n",
            "Successfully built easydict antlr4-python3-runtime\n",
            "Installing collected packages: easydict, braceexpand, antlr4-python3-runtime, webdataset, omegaconf, wldhx.yadisk-direct, hydra-core, torchmetrics, kornia, albumentations, pytorch-lightning\n",
            "  Attempting uninstall: easydict\n",
            "    Found existing installation: easydict 1.11\n",
            "    Uninstalling easydict-1.11:\n",
            "      Successfully uninstalled easydict-1.11\n",
            "  Attempting uninstall: albumentations\n",
            "    Found existing installation: albumentations 1.3.1\n",
            "    Uninstalling albumentations-1.3.1:\n",
            "      Successfully uninstalled albumentations-1.3.1\n",
            "Successfully installed albumentations-0.5.2 antlr4-python3-runtime-4.8 braceexpand-0.1.7 easydict-1.9 hydra-core-1.1.0 kornia-0.5.0 omegaconf-2.1.2 pytorch-lightning-1.2.9 torchmetrics-0.2.0 webdataset-0.2.86 wldhx.yadisk-direct-0.0.6\n"
          ]
        },
        {
          "output_type": "display_data",
          "data": {
            "application/vnd.colab-display-data+json": {
              "pip_warning": {
                "packages": [
                  "pydevd_plugins"
                ]
              }
            }
          },
          "metadata": {}
        }
      ],
      "source": [
        "!pip install -r requirements.txt"
      ]
    },
    {
      "cell_type": "code",
      "execution_count": 26,
      "metadata": {
        "colab": {
          "base_uri": "https://localhost:8080/"
        },
        "id": "kDSQlcaASobk",
        "outputId": "30554296-e970-4029-ed37-9604cf292eb9"
      },
      "outputs": [
        {
          "output_type": "stream",
          "name": "stdout",
          "text": [
            "Collecting torchtext==0.6.0\n",
            "  Downloading torchtext-0.6.0-py3-none-any.whl (64 kB)\n",
            "\u001b[?25l     \u001b[90m━━━━━━━━━━━━━━━━━━━━━━━━━━━━━━━━━━━━━━━━\u001b[0m \u001b[32m0.0/64.2 kB\u001b[0m \u001b[31m?\u001b[0m eta \u001b[36m-:--:--\u001b[0m\r\u001b[2K     \u001b[91m━━━━━━━━━━━━━━━━━━━━━━━━━━━━━━━━━━━━━━\u001b[0m\u001b[90m╺\u001b[0m\u001b[90m━\u001b[0m \u001b[32m61.4/64.2 kB\u001b[0m \u001b[31m1.8 MB/s\u001b[0m eta \u001b[36m0:00:01\u001b[0m\r\u001b[2K     \u001b[90m━━━━━━━━━━━━━━━━━━━━━━━━━━━━━━━━━━━━━━━━\u001b[0m \u001b[32m64.2/64.2 kB\u001b[0m \u001b[31m1.6 MB/s\u001b[0m eta \u001b[36m0:00:00\u001b[0m\n",
            "\u001b[?25hRequirement already satisfied: tqdm in /usr/local/lib/python3.10/dist-packages (from torchtext==0.6.0) (4.66.1)\n",
            "Requirement already satisfied: requests in /usr/local/lib/python3.10/dist-packages (from torchtext==0.6.0) (2.31.0)\n",
            "Requirement already satisfied: torch in /usr/local/lib/python3.10/dist-packages (from torchtext==0.6.0) (2.1.0+cu121)\n",
            "Requirement already satisfied: numpy in /usr/local/lib/python3.10/dist-packages (from torchtext==0.6.0) (1.23.5)\n",
            "Requirement already satisfied: six in /usr/local/lib/python3.10/dist-packages (from torchtext==0.6.0) (1.16.0)\n",
            "Collecting sentencepiece (from torchtext==0.6.0)\n",
            "  Downloading sentencepiece-0.1.99-cp310-cp310-manylinux_2_17_x86_64.manylinux2014_x86_64.whl (1.3 MB)\n",
            "\u001b[2K     \u001b[90m━━━━━━━━━━━━━━━━━━━━━━━━━━━━━━━━━━━━━━━━\u001b[0m \u001b[32m1.3/1.3 MB\u001b[0m \u001b[31m25.4 MB/s\u001b[0m eta \u001b[36m0:00:00\u001b[0m\n",
            "\u001b[?25hRequirement already satisfied: charset-normalizer<4,>=2 in /usr/local/lib/python3.10/dist-packages (from requests->torchtext==0.6.0) (3.3.2)\n",
            "Requirement already satisfied: idna<4,>=2.5 in /usr/local/lib/python3.10/dist-packages (from requests->torchtext==0.6.0) (3.6)\n",
            "Requirement already satisfied: urllib3<3,>=1.21.1 in /usr/local/lib/python3.10/dist-packages (from requests->torchtext==0.6.0) (2.0.7)\n",
            "Requirement already satisfied: certifi>=2017.4.17 in /usr/local/lib/python3.10/dist-packages (from requests->torchtext==0.6.0) (2023.11.17)\n",
            "Requirement already satisfied: filelock in /usr/local/lib/python3.10/dist-packages (from torch->torchtext==0.6.0) (3.13.1)\n",
            "Requirement already satisfied: typing-extensions in /usr/local/lib/python3.10/dist-packages (from torch->torchtext==0.6.0) (4.5.0)\n",
            "Requirement already satisfied: sympy in /usr/local/lib/python3.10/dist-packages (from torch->torchtext==0.6.0) (1.12)\n",
            "Requirement already satisfied: networkx in /usr/local/lib/python3.10/dist-packages (from torch->torchtext==0.6.0) (3.2.1)\n",
            "Requirement already satisfied: jinja2 in /usr/local/lib/python3.10/dist-packages (from torch->torchtext==0.6.0) (3.1.2)\n",
            "Requirement already satisfied: fsspec in /usr/local/lib/python3.10/dist-packages (from torch->torchtext==0.6.0) (2023.6.0)\n",
            "Requirement already satisfied: triton==2.1.0 in /usr/local/lib/python3.10/dist-packages (from torch->torchtext==0.6.0) (2.1.0)\n",
            "Requirement already satisfied: MarkupSafe>=2.0 in /usr/local/lib/python3.10/dist-packages (from jinja2->torch->torchtext==0.6.0) (2.1.3)\n",
            "Requirement already satisfied: mpmath>=0.19 in /usr/local/lib/python3.10/dist-packages (from sympy->torch->torchtext==0.6.0) (1.3.0)\n",
            "Installing collected packages: sentencepiece, torchtext\n",
            "  Attempting uninstall: torchtext\n",
            "    Found existing installation: torchtext 0.16.0\n",
            "    Uninstalling torchtext-0.16.0:\n",
            "      Successfully uninstalled torchtext-0.16.0\n",
            "Successfully installed sentencepiece-0.1.99 torchtext-0.6.0\n"
          ]
        }
      ],
      "source": [
        "!pip install torchtext==0.6.0"
      ]
    },
    {
      "cell_type": "code",
      "execution_count": 29,
      "metadata": {
        "colab": {
          "base_uri": "https://localhost:8080/"
        },
        "id": "ooiLhnHxTlr1",
        "outputId": "ecf9a26e-b143-4ccf-e293-84be25d7bd8a"
      },
      "outputs": [
        {
          "output_type": "stream",
          "name": "stdout",
          "text": [
            "2024-01-07 10:05:14.580283: E external/local_xla/xla/stream_executor/cuda/cuda_dnn.cc:9261] Unable to register cuDNN factory: Attempting to register factory for plugin cuDNN when one has already been registered\n",
            "2024-01-07 10:05:14.580334: E external/local_xla/xla/stream_executor/cuda/cuda_fft.cc:607] Unable to register cuFFT factory: Attempting to register factory for plugin cuFFT when one has already been registered\n",
            "2024-01-07 10:05:14.581696: E external/local_xla/xla/stream_executor/cuda/cuda_blas.cc:1515] Unable to register cuBLAS factory: Attempting to register factory for plugin cuBLAS when one has already been registered\n",
            "2024-01-07 10:05:15.803731: W tensorflow/compiler/tf2tensorrt/utils/py_utils.cc:38] TF-TRT Warning: Could not find TensorRT\n",
            "Detectron v2 is not installed\n",
            "[2024-01-07 10:05:17,820][saicinpainting.utils][WARNING] - Setting signal 10 handler <function print_traceback_handler at 0x7eecb250ec20>\n",
            "[2024-01-07 10:05:17,845][root][INFO] - Make training model default\n",
            "[2024-01-07 10:05:17,845][saicinpainting.training.trainers.base][INFO] - BaseInpaintingTrainingModule init called\n",
            "[2024-01-07 10:05:17,845][root][INFO] - Make generator ffc_resnet\n",
            "[2024-01-07 10:05:18,333][saicinpainting.training.trainers.base][INFO] - Generator\n",
            "FFCResNetGenerator(\n",
            "  (model): Sequential(\n",
            "    (0): ReflectionPad2d((3, 3, 3, 3))\n",
            "    (1): FFC_BN_ACT(\n",
            "      (ffc): FFC(\n",
            "        (convl2l): Conv2d(4, 64, kernel_size=(7, 7), stride=(1, 1), bias=False, padding_mode=reflect)\n",
            "        (convl2g): Identity()\n",
            "        (convg2l): Identity()\n",
            "        (convg2g): Identity()\n",
            "        (gate): Identity()\n",
            "      )\n",
            "      (bn_l): BatchNorm2d(64, eps=1e-05, momentum=0.1, affine=True, track_running_stats=True)\n",
            "      (bn_g): Identity()\n",
            "      (act_l): ReLU(inplace=True)\n",
            "      (act_g): Identity()\n",
            "    )\n",
            "    (2): FFC_BN_ACT(\n",
            "      (ffc): FFC(\n",
            "        (convl2l): Conv2d(64, 128, kernel_size=(3, 3), stride=(2, 2), padding=(1, 1), bias=False, padding_mode=reflect)\n",
            "        (convl2g): Identity()\n",
            "        (convg2l): Identity()\n",
            "        (convg2g): Identity()\n",
            "        (gate): Identity()\n",
            "      )\n",
            "      (bn_l): BatchNorm2d(128, eps=1e-05, momentum=0.1, affine=True, track_running_stats=True)\n",
            "      (bn_g): Identity()\n",
            "      (act_l): ReLU(inplace=True)\n",
            "      (act_g): Identity()\n",
            "    )\n",
            "    (3): FFC_BN_ACT(\n",
            "      (ffc): FFC(\n",
            "        (convl2l): Conv2d(128, 256, kernel_size=(3, 3), stride=(2, 2), padding=(1, 1), bias=False, padding_mode=reflect)\n",
            "        (convl2g): Identity()\n",
            "        (convg2l): Identity()\n",
            "        (convg2g): Identity()\n",
            "        (gate): Identity()\n",
            "      )\n",
            "      (bn_l): BatchNorm2d(256, eps=1e-05, momentum=0.1, affine=True, track_running_stats=True)\n",
            "      (bn_g): Identity()\n",
            "      (act_l): ReLU(inplace=True)\n",
            "      (act_g): Identity()\n",
            "    )\n",
            "    (4): FFC_BN_ACT(\n",
            "      (ffc): FFC(\n",
            "        (convl2l): Conv2d(256, 128, kernel_size=(3, 3), stride=(2, 2), padding=(1, 1), bias=False, padding_mode=reflect)\n",
            "        (convl2g): Conv2d(256, 384, kernel_size=(3, 3), stride=(2, 2), padding=(1, 1), bias=False, padding_mode=reflect)\n",
            "        (convg2l): Identity()\n",
            "        (convg2g): Identity()\n",
            "        (gate): Identity()\n",
            "      )\n",
            "      (bn_l): BatchNorm2d(128, eps=1e-05, momentum=0.1, affine=True, track_running_stats=True)\n",
            "      (bn_g): BatchNorm2d(384, eps=1e-05, momentum=0.1, affine=True, track_running_stats=True)\n",
            "      (act_l): ReLU(inplace=True)\n",
            "      (act_g): ReLU(inplace=True)\n",
            "    )\n",
            "    (5): FFCResnetBlock(\n",
            "      (conv1): FFC_BN_ACT(\n",
            "        (ffc): FFC(\n",
            "          (convl2l): Conv2d(128, 128, kernel_size=(3, 3), stride=(1, 1), padding=(1, 1), bias=False, padding_mode=reflect)\n",
            "          (convl2g): Conv2d(128, 384, kernel_size=(3, 3), stride=(1, 1), padding=(1, 1), bias=False, padding_mode=reflect)\n",
            "          (convg2l): Conv2d(384, 128, kernel_size=(3, 3), stride=(1, 1), padding=(1, 1), bias=False, padding_mode=reflect)\n",
            "          (convg2g): SpectralTransform(\n",
            "            (downsample): Identity()\n",
            "            (conv1): Sequential(\n",
            "              (0): Conv2d(384, 192, kernel_size=(1, 1), stride=(1, 1), bias=False)\n",
            "              (1): BatchNorm2d(192, eps=1e-05, momentum=0.1, affine=True, track_running_stats=True)\n",
            "              (2): ReLU(inplace=True)\n",
            "            )\n",
            "            (fu): FourierUnit(\n",
            "              (conv_layer): Conv2d(384, 384, kernel_size=(1, 1), stride=(1, 1), bias=False)\n",
            "              (bn): BatchNorm2d(384, eps=1e-05, momentum=0.1, affine=True, track_running_stats=True)\n",
            "              (relu): ReLU(inplace=True)\n",
            "            )\n",
            "            (conv2): Conv2d(192, 384, kernel_size=(1, 1), stride=(1, 1), bias=False)\n",
            "          )\n",
            "          (gate): Identity()\n",
            "        )\n",
            "        (bn_l): BatchNorm2d(128, eps=1e-05, momentum=0.1, affine=True, track_running_stats=True)\n",
            "        (bn_g): BatchNorm2d(384, eps=1e-05, momentum=0.1, affine=True, track_running_stats=True)\n",
            "        (act_l): ReLU(inplace=True)\n",
            "        (act_g): ReLU(inplace=True)\n",
            "      )\n",
            "      (conv2): FFC_BN_ACT(\n",
            "        (ffc): FFC(\n",
            "          (convl2l): Conv2d(128, 128, kernel_size=(3, 3), stride=(1, 1), padding=(1, 1), bias=False, padding_mode=reflect)\n",
            "          (convl2g): Conv2d(128, 384, kernel_size=(3, 3), stride=(1, 1), padding=(1, 1), bias=False, padding_mode=reflect)\n",
            "          (convg2l): Conv2d(384, 128, kernel_size=(3, 3), stride=(1, 1), padding=(1, 1), bias=False, padding_mode=reflect)\n",
            "          (convg2g): SpectralTransform(\n",
            "            (downsample): Identity()\n",
            "            (conv1): Sequential(\n",
            "              (0): Conv2d(384, 192, kernel_size=(1, 1), stride=(1, 1), bias=False)\n",
            "              (1): BatchNorm2d(192, eps=1e-05, momentum=0.1, affine=True, track_running_stats=True)\n",
            "              (2): ReLU(inplace=True)\n",
            "            )\n",
            "            (fu): FourierUnit(\n",
            "              (conv_layer): Conv2d(384, 384, kernel_size=(1, 1), stride=(1, 1), bias=False)\n",
            "              (bn): BatchNorm2d(384, eps=1e-05, momentum=0.1, affine=True, track_running_stats=True)\n",
            "              (relu): ReLU(inplace=True)\n",
            "            )\n",
            "            (conv2): Conv2d(192, 384, kernel_size=(1, 1), stride=(1, 1), bias=False)\n",
            "          )\n",
            "          (gate): Identity()\n",
            "        )\n",
            "        (bn_l): BatchNorm2d(128, eps=1e-05, momentum=0.1, affine=True, track_running_stats=True)\n",
            "        (bn_g): BatchNorm2d(384, eps=1e-05, momentum=0.1, affine=True, track_running_stats=True)\n",
            "        (act_l): ReLU(inplace=True)\n",
            "        (act_g): ReLU(inplace=True)\n",
            "      )\n",
            "    )\n",
            "    (6): FFCResnetBlock(\n",
            "      (conv1): FFC_BN_ACT(\n",
            "        (ffc): FFC(\n",
            "          (convl2l): Conv2d(128, 128, kernel_size=(3, 3), stride=(1, 1), padding=(1, 1), bias=False, padding_mode=reflect)\n",
            "          (convl2g): Conv2d(128, 384, kernel_size=(3, 3), stride=(1, 1), padding=(1, 1), bias=False, padding_mode=reflect)\n",
            "          (convg2l): Conv2d(384, 128, kernel_size=(3, 3), stride=(1, 1), padding=(1, 1), bias=False, padding_mode=reflect)\n",
            "          (convg2g): SpectralTransform(\n",
            "            (downsample): Identity()\n",
            "            (conv1): Sequential(\n",
            "              (0): Conv2d(384, 192, kernel_size=(1, 1), stride=(1, 1), bias=False)\n",
            "              (1): BatchNorm2d(192, eps=1e-05, momentum=0.1, affine=True, track_running_stats=True)\n",
            "              (2): ReLU(inplace=True)\n",
            "            )\n",
            "            (fu): FourierUnit(\n",
            "              (conv_layer): Conv2d(384, 384, kernel_size=(1, 1), stride=(1, 1), bias=False)\n",
            "              (bn): BatchNorm2d(384, eps=1e-05, momentum=0.1, affine=True, track_running_stats=True)\n",
            "              (relu): ReLU(inplace=True)\n",
            "            )\n",
            "            (conv2): Conv2d(192, 384, kernel_size=(1, 1), stride=(1, 1), bias=False)\n",
            "          )\n",
            "          (gate): Identity()\n",
            "        )\n",
            "        (bn_l): BatchNorm2d(128, eps=1e-05, momentum=0.1, affine=True, track_running_stats=True)\n",
            "        (bn_g): BatchNorm2d(384, eps=1e-05, momentum=0.1, affine=True, track_running_stats=True)\n",
            "        (act_l): ReLU(inplace=True)\n",
            "        (act_g): ReLU(inplace=True)\n",
            "      )\n",
            "      (conv2): FFC_BN_ACT(\n",
            "        (ffc): FFC(\n",
            "          (convl2l): Conv2d(128, 128, kernel_size=(3, 3), stride=(1, 1), padding=(1, 1), bias=False, padding_mode=reflect)\n",
            "          (convl2g): Conv2d(128, 384, kernel_size=(3, 3), stride=(1, 1), padding=(1, 1), bias=False, padding_mode=reflect)\n",
            "          (convg2l): Conv2d(384, 128, kernel_size=(3, 3), stride=(1, 1), padding=(1, 1), bias=False, padding_mode=reflect)\n",
            "          (convg2g): SpectralTransform(\n",
            "            (downsample): Identity()\n",
            "            (conv1): Sequential(\n",
            "              (0): Conv2d(384, 192, kernel_size=(1, 1), stride=(1, 1), bias=False)\n",
            "              (1): BatchNorm2d(192, eps=1e-05, momentum=0.1, affine=True, track_running_stats=True)\n",
            "              (2): ReLU(inplace=True)\n",
            "            )\n",
            "            (fu): FourierUnit(\n",
            "              (conv_layer): Conv2d(384, 384, kernel_size=(1, 1), stride=(1, 1), bias=False)\n",
            "              (bn): BatchNorm2d(384, eps=1e-05, momentum=0.1, affine=True, track_running_stats=True)\n",
            "              (relu): ReLU(inplace=True)\n",
            "            )\n",
            "            (conv2): Conv2d(192, 384, kernel_size=(1, 1), stride=(1, 1), bias=False)\n",
            "          )\n",
            "          (gate): Identity()\n",
            "        )\n",
            "        (bn_l): BatchNorm2d(128, eps=1e-05, momentum=0.1, affine=True, track_running_stats=True)\n",
            "        (bn_g): BatchNorm2d(384, eps=1e-05, momentum=0.1, affine=True, track_running_stats=True)\n",
            "        (act_l): ReLU(inplace=True)\n",
            "        (act_g): ReLU(inplace=True)\n",
            "      )\n",
            "    )\n",
            "    (7): FFCResnetBlock(\n",
            "      (conv1): FFC_BN_ACT(\n",
            "        (ffc): FFC(\n",
            "          (convl2l): Conv2d(128, 128, kernel_size=(3, 3), stride=(1, 1), padding=(1, 1), bias=False, padding_mode=reflect)\n",
            "          (convl2g): Conv2d(128, 384, kernel_size=(3, 3), stride=(1, 1), padding=(1, 1), bias=False, padding_mode=reflect)\n",
            "          (convg2l): Conv2d(384, 128, kernel_size=(3, 3), stride=(1, 1), padding=(1, 1), bias=False, padding_mode=reflect)\n",
            "          (convg2g): SpectralTransform(\n",
            "            (downsample): Identity()\n",
            "            (conv1): Sequential(\n",
            "              (0): Conv2d(384, 192, kernel_size=(1, 1), stride=(1, 1), bias=False)\n",
            "              (1): BatchNorm2d(192, eps=1e-05, momentum=0.1, affine=True, track_running_stats=True)\n",
            "              (2): ReLU(inplace=True)\n",
            "            )\n",
            "            (fu): FourierUnit(\n",
            "              (conv_layer): Conv2d(384, 384, kernel_size=(1, 1), stride=(1, 1), bias=False)\n",
            "              (bn): BatchNorm2d(384, eps=1e-05, momentum=0.1, affine=True, track_running_stats=True)\n",
            "              (relu): ReLU(inplace=True)\n",
            "            )\n",
            "            (conv2): Conv2d(192, 384, kernel_size=(1, 1), stride=(1, 1), bias=False)\n",
            "          )\n",
            "          (gate): Identity()\n",
            "        )\n",
            "        (bn_l): BatchNorm2d(128, eps=1e-05, momentum=0.1, affine=True, track_running_stats=True)\n",
            "        (bn_g): BatchNorm2d(384, eps=1e-05, momentum=0.1, affine=True, track_running_stats=True)\n",
            "        (act_l): ReLU(inplace=True)\n",
            "        (act_g): ReLU(inplace=True)\n",
            "      )\n",
            "      (conv2): FFC_BN_ACT(\n",
            "        (ffc): FFC(\n",
            "          (convl2l): Conv2d(128, 128, kernel_size=(3, 3), stride=(1, 1), padding=(1, 1), bias=False, padding_mode=reflect)\n",
            "          (convl2g): Conv2d(128, 384, kernel_size=(3, 3), stride=(1, 1), padding=(1, 1), bias=False, padding_mode=reflect)\n",
            "          (convg2l): Conv2d(384, 128, kernel_size=(3, 3), stride=(1, 1), padding=(1, 1), bias=False, padding_mode=reflect)\n",
            "          (convg2g): SpectralTransform(\n",
            "            (downsample): Identity()\n",
            "            (conv1): Sequential(\n",
            "              (0): Conv2d(384, 192, kernel_size=(1, 1), stride=(1, 1), bias=False)\n",
            "              (1): BatchNorm2d(192, eps=1e-05, momentum=0.1, affine=True, track_running_stats=True)\n",
            "              (2): ReLU(inplace=True)\n",
            "            )\n",
            "            (fu): FourierUnit(\n",
            "              (conv_layer): Conv2d(384, 384, kernel_size=(1, 1), stride=(1, 1), bias=False)\n",
            "              (bn): BatchNorm2d(384, eps=1e-05, momentum=0.1, affine=True, track_running_stats=True)\n",
            "              (relu): ReLU(inplace=True)\n",
            "            )\n",
            "            (conv2): Conv2d(192, 384, kernel_size=(1, 1), stride=(1, 1), bias=False)\n",
            "          )\n",
            "          (gate): Identity()\n",
            "        )\n",
            "        (bn_l): BatchNorm2d(128, eps=1e-05, momentum=0.1, affine=True, track_running_stats=True)\n",
            "        (bn_g): BatchNorm2d(384, eps=1e-05, momentum=0.1, affine=True, track_running_stats=True)\n",
            "        (act_l): ReLU(inplace=True)\n",
            "        (act_g): ReLU(inplace=True)\n",
            "      )\n",
            "    )\n",
            "    (8): FFCResnetBlock(\n",
            "      (conv1): FFC_BN_ACT(\n",
            "        (ffc): FFC(\n",
            "          (convl2l): Conv2d(128, 128, kernel_size=(3, 3), stride=(1, 1), padding=(1, 1), bias=False, padding_mode=reflect)\n",
            "          (convl2g): Conv2d(128, 384, kernel_size=(3, 3), stride=(1, 1), padding=(1, 1), bias=False, padding_mode=reflect)\n",
            "          (convg2l): Conv2d(384, 128, kernel_size=(3, 3), stride=(1, 1), padding=(1, 1), bias=False, padding_mode=reflect)\n",
            "          (convg2g): SpectralTransform(\n",
            "            (downsample): Identity()\n",
            "            (conv1): Sequential(\n",
            "              (0): Conv2d(384, 192, kernel_size=(1, 1), stride=(1, 1), bias=False)\n",
            "              (1): BatchNorm2d(192, eps=1e-05, momentum=0.1, affine=True, track_running_stats=True)\n",
            "              (2): ReLU(inplace=True)\n",
            "            )\n",
            "            (fu): FourierUnit(\n",
            "              (conv_layer): Conv2d(384, 384, kernel_size=(1, 1), stride=(1, 1), bias=False)\n",
            "              (bn): BatchNorm2d(384, eps=1e-05, momentum=0.1, affine=True, track_running_stats=True)\n",
            "              (relu): ReLU(inplace=True)\n",
            "            )\n",
            "            (conv2): Conv2d(192, 384, kernel_size=(1, 1), stride=(1, 1), bias=False)\n",
            "          )\n",
            "          (gate): Identity()\n",
            "        )\n",
            "        (bn_l): BatchNorm2d(128, eps=1e-05, momentum=0.1, affine=True, track_running_stats=True)\n",
            "        (bn_g): BatchNorm2d(384, eps=1e-05, momentum=0.1, affine=True, track_running_stats=True)\n",
            "        (act_l): ReLU(inplace=True)\n",
            "        (act_g): ReLU(inplace=True)\n",
            "      )\n",
            "      (conv2): FFC_BN_ACT(\n",
            "        (ffc): FFC(\n",
            "          (convl2l): Conv2d(128, 128, kernel_size=(3, 3), stride=(1, 1), padding=(1, 1), bias=False, padding_mode=reflect)\n",
            "          (convl2g): Conv2d(128, 384, kernel_size=(3, 3), stride=(1, 1), padding=(1, 1), bias=False, padding_mode=reflect)\n",
            "          (convg2l): Conv2d(384, 128, kernel_size=(3, 3), stride=(1, 1), padding=(1, 1), bias=False, padding_mode=reflect)\n",
            "          (convg2g): SpectralTransform(\n",
            "            (downsample): Identity()\n",
            "            (conv1): Sequential(\n",
            "              (0): Conv2d(384, 192, kernel_size=(1, 1), stride=(1, 1), bias=False)\n",
            "              (1): BatchNorm2d(192, eps=1e-05, momentum=0.1, affine=True, track_running_stats=True)\n",
            "              (2): ReLU(inplace=True)\n",
            "            )\n",
            "            (fu): FourierUnit(\n",
            "              (conv_layer): Conv2d(384, 384, kernel_size=(1, 1), stride=(1, 1), bias=False)\n",
            "              (bn): BatchNorm2d(384, eps=1e-05, momentum=0.1, affine=True, track_running_stats=True)\n",
            "              (relu): ReLU(inplace=True)\n",
            "            )\n",
            "            (conv2): Conv2d(192, 384, kernel_size=(1, 1), stride=(1, 1), bias=False)\n",
            "          )\n",
            "          (gate): Identity()\n",
            "        )\n",
            "        (bn_l): BatchNorm2d(128, eps=1e-05, momentum=0.1, affine=True, track_running_stats=True)\n",
            "        (bn_g): BatchNorm2d(384, eps=1e-05, momentum=0.1, affine=True, track_running_stats=True)\n",
            "        (act_l): ReLU(inplace=True)\n",
            "        (act_g): ReLU(inplace=True)\n",
            "      )\n",
            "    )\n",
            "    (9): FFCResnetBlock(\n",
            "      (conv1): FFC_BN_ACT(\n",
            "        (ffc): FFC(\n",
            "          (convl2l): Conv2d(128, 128, kernel_size=(3, 3), stride=(1, 1), padding=(1, 1), bias=False, padding_mode=reflect)\n",
            "          (convl2g): Conv2d(128, 384, kernel_size=(3, 3), stride=(1, 1), padding=(1, 1), bias=False, padding_mode=reflect)\n",
            "          (convg2l): Conv2d(384, 128, kernel_size=(3, 3), stride=(1, 1), padding=(1, 1), bias=False, padding_mode=reflect)\n",
            "          (convg2g): SpectralTransform(\n",
            "            (downsample): Identity()\n",
            "            (conv1): Sequential(\n",
            "              (0): Conv2d(384, 192, kernel_size=(1, 1), stride=(1, 1), bias=False)\n",
            "              (1): BatchNorm2d(192, eps=1e-05, momentum=0.1, affine=True, track_running_stats=True)\n",
            "              (2): ReLU(inplace=True)\n",
            "            )\n",
            "            (fu): FourierUnit(\n",
            "              (conv_layer): Conv2d(384, 384, kernel_size=(1, 1), stride=(1, 1), bias=False)\n",
            "              (bn): BatchNorm2d(384, eps=1e-05, momentum=0.1, affine=True, track_running_stats=True)\n",
            "              (relu): ReLU(inplace=True)\n",
            "            )\n",
            "            (conv2): Conv2d(192, 384, kernel_size=(1, 1), stride=(1, 1), bias=False)\n",
            "          )\n",
            "          (gate): Identity()\n",
            "        )\n",
            "        (bn_l): BatchNorm2d(128, eps=1e-05, momentum=0.1, affine=True, track_running_stats=True)\n",
            "        (bn_g): BatchNorm2d(384, eps=1e-05, momentum=0.1, affine=True, track_running_stats=True)\n",
            "        (act_l): ReLU(inplace=True)\n",
            "        (act_g): ReLU(inplace=True)\n",
            "      )\n",
            "      (conv2): FFC_BN_ACT(\n",
            "        (ffc): FFC(\n",
            "          (convl2l): Conv2d(128, 128, kernel_size=(3, 3), stride=(1, 1), padding=(1, 1), bias=False, padding_mode=reflect)\n",
            "          (convl2g): Conv2d(128, 384, kernel_size=(3, 3), stride=(1, 1), padding=(1, 1), bias=False, padding_mode=reflect)\n",
            "          (convg2l): Conv2d(384, 128, kernel_size=(3, 3), stride=(1, 1), padding=(1, 1), bias=False, padding_mode=reflect)\n",
            "          (convg2g): SpectralTransform(\n",
            "            (downsample): Identity()\n",
            "            (conv1): Sequential(\n",
            "              (0): Conv2d(384, 192, kernel_size=(1, 1), stride=(1, 1), bias=False)\n",
            "              (1): BatchNorm2d(192, eps=1e-05, momentum=0.1, affine=True, track_running_stats=True)\n",
            "              (2): ReLU(inplace=True)\n",
            "            )\n",
            "            (fu): FourierUnit(\n",
            "              (conv_layer): Conv2d(384, 384, kernel_size=(1, 1), stride=(1, 1), bias=False)\n",
            "              (bn): BatchNorm2d(384, eps=1e-05, momentum=0.1, affine=True, track_running_stats=True)\n",
            "              (relu): ReLU(inplace=True)\n",
            "            )\n",
            "            (conv2): Conv2d(192, 384, kernel_size=(1, 1), stride=(1, 1), bias=False)\n",
            "          )\n",
            "          (gate): Identity()\n",
            "        )\n",
            "        (bn_l): BatchNorm2d(128, eps=1e-05, momentum=0.1, affine=True, track_running_stats=True)\n",
            "        (bn_g): BatchNorm2d(384, eps=1e-05, momentum=0.1, affine=True, track_running_stats=True)\n",
            "        (act_l): ReLU(inplace=True)\n",
            "        (act_g): ReLU(inplace=True)\n",
            "      )\n",
            "    )\n",
            "    (10): FFCResnetBlock(\n",
            "      (conv1): FFC_BN_ACT(\n",
            "        (ffc): FFC(\n",
            "          (convl2l): Conv2d(128, 128, kernel_size=(3, 3), stride=(1, 1), padding=(1, 1), bias=False, padding_mode=reflect)\n",
            "          (convl2g): Conv2d(128, 384, kernel_size=(3, 3), stride=(1, 1), padding=(1, 1), bias=False, padding_mode=reflect)\n",
            "          (convg2l): Conv2d(384, 128, kernel_size=(3, 3), stride=(1, 1), padding=(1, 1), bias=False, padding_mode=reflect)\n",
            "          (convg2g): SpectralTransform(\n",
            "            (downsample): Identity()\n",
            "            (conv1): Sequential(\n",
            "              (0): Conv2d(384, 192, kernel_size=(1, 1), stride=(1, 1), bias=False)\n",
            "              (1): BatchNorm2d(192, eps=1e-05, momentum=0.1, affine=True, track_running_stats=True)\n",
            "              (2): ReLU(inplace=True)\n",
            "            )\n",
            "            (fu): FourierUnit(\n",
            "              (conv_layer): Conv2d(384, 384, kernel_size=(1, 1), stride=(1, 1), bias=False)\n",
            "              (bn): BatchNorm2d(384, eps=1e-05, momentum=0.1, affine=True, track_running_stats=True)\n",
            "              (relu): ReLU(inplace=True)\n",
            "            )\n",
            "            (conv2): Conv2d(192, 384, kernel_size=(1, 1), stride=(1, 1), bias=False)\n",
            "          )\n",
            "          (gate): Identity()\n",
            "        )\n",
            "        (bn_l): BatchNorm2d(128, eps=1e-05, momentum=0.1, affine=True, track_running_stats=True)\n",
            "        (bn_g): BatchNorm2d(384, eps=1e-05, momentum=0.1, affine=True, track_running_stats=True)\n",
            "        (act_l): ReLU(inplace=True)\n",
            "        (act_g): ReLU(inplace=True)\n",
            "      )\n",
            "      (conv2): FFC_BN_ACT(\n",
            "        (ffc): FFC(\n",
            "          (convl2l): Conv2d(128, 128, kernel_size=(3, 3), stride=(1, 1), padding=(1, 1), bias=False, padding_mode=reflect)\n",
            "          (convl2g): Conv2d(128, 384, kernel_size=(3, 3), stride=(1, 1), padding=(1, 1), bias=False, padding_mode=reflect)\n",
            "          (convg2l): Conv2d(384, 128, kernel_size=(3, 3), stride=(1, 1), padding=(1, 1), bias=False, padding_mode=reflect)\n",
            "          (convg2g): SpectralTransform(\n",
            "            (downsample): Identity()\n",
            "            (conv1): Sequential(\n",
            "              (0): Conv2d(384, 192, kernel_size=(1, 1), stride=(1, 1), bias=False)\n",
            "              (1): BatchNorm2d(192, eps=1e-05, momentum=0.1, affine=True, track_running_stats=True)\n",
            "              (2): ReLU(inplace=True)\n",
            "            )\n",
            "            (fu): FourierUnit(\n",
            "              (conv_layer): Conv2d(384, 384, kernel_size=(1, 1), stride=(1, 1), bias=False)\n",
            "              (bn): BatchNorm2d(384, eps=1e-05, momentum=0.1, affine=True, track_running_stats=True)\n",
            "              (relu): ReLU(inplace=True)\n",
            "            )\n",
            "            (conv2): Conv2d(192, 384, kernel_size=(1, 1), stride=(1, 1), bias=False)\n",
            "          )\n",
            "          (gate): Identity()\n",
            "        )\n",
            "        (bn_l): BatchNorm2d(128, eps=1e-05, momentum=0.1, affine=True, track_running_stats=True)\n",
            "        (bn_g): BatchNorm2d(384, eps=1e-05, momentum=0.1, affine=True, track_running_stats=True)\n",
            "        (act_l): ReLU(inplace=True)\n",
            "        (act_g): ReLU(inplace=True)\n",
            "      )\n",
            "    )\n",
            "    (11): FFCResnetBlock(\n",
            "      (conv1): FFC_BN_ACT(\n",
            "        (ffc): FFC(\n",
            "          (convl2l): Conv2d(128, 128, kernel_size=(3, 3), stride=(1, 1), padding=(1, 1), bias=False, padding_mode=reflect)\n",
            "          (convl2g): Conv2d(128, 384, kernel_size=(3, 3), stride=(1, 1), padding=(1, 1), bias=False, padding_mode=reflect)\n",
            "          (convg2l): Conv2d(384, 128, kernel_size=(3, 3), stride=(1, 1), padding=(1, 1), bias=False, padding_mode=reflect)\n",
            "          (convg2g): SpectralTransform(\n",
            "            (downsample): Identity()\n",
            "            (conv1): Sequential(\n",
            "              (0): Conv2d(384, 192, kernel_size=(1, 1), stride=(1, 1), bias=False)\n",
            "              (1): BatchNorm2d(192, eps=1e-05, momentum=0.1, affine=True, track_running_stats=True)\n",
            "              (2): ReLU(inplace=True)\n",
            "            )\n",
            "            (fu): FourierUnit(\n",
            "              (conv_layer): Conv2d(384, 384, kernel_size=(1, 1), stride=(1, 1), bias=False)\n",
            "              (bn): BatchNorm2d(384, eps=1e-05, momentum=0.1, affine=True, track_running_stats=True)\n",
            "              (relu): ReLU(inplace=True)\n",
            "            )\n",
            "            (conv2): Conv2d(192, 384, kernel_size=(1, 1), stride=(1, 1), bias=False)\n",
            "          )\n",
            "          (gate): Identity()\n",
            "        )\n",
            "        (bn_l): BatchNorm2d(128, eps=1e-05, momentum=0.1, affine=True, track_running_stats=True)\n",
            "        (bn_g): BatchNorm2d(384, eps=1e-05, momentum=0.1, affine=True, track_running_stats=True)\n",
            "        (act_l): ReLU(inplace=True)\n",
            "        (act_g): ReLU(inplace=True)\n",
            "      )\n",
            "      (conv2): FFC_BN_ACT(\n",
            "        (ffc): FFC(\n",
            "          (convl2l): Conv2d(128, 128, kernel_size=(3, 3), stride=(1, 1), padding=(1, 1), bias=False, padding_mode=reflect)\n",
            "          (convl2g): Conv2d(128, 384, kernel_size=(3, 3), stride=(1, 1), padding=(1, 1), bias=False, padding_mode=reflect)\n",
            "          (convg2l): Conv2d(384, 128, kernel_size=(3, 3), stride=(1, 1), padding=(1, 1), bias=False, padding_mode=reflect)\n",
            "          (convg2g): SpectralTransform(\n",
            "            (downsample): Identity()\n",
            "            (conv1): Sequential(\n",
            "              (0): Conv2d(384, 192, kernel_size=(1, 1), stride=(1, 1), bias=False)\n",
            "              (1): BatchNorm2d(192, eps=1e-05, momentum=0.1, affine=True, track_running_stats=True)\n",
            "              (2): ReLU(inplace=True)\n",
            "            )\n",
            "            (fu): FourierUnit(\n",
            "              (conv_layer): Conv2d(384, 384, kernel_size=(1, 1), stride=(1, 1), bias=False)\n",
            "              (bn): BatchNorm2d(384, eps=1e-05, momentum=0.1, affine=True, track_running_stats=True)\n",
            "              (relu): ReLU(inplace=True)\n",
            "            )\n",
            "            (conv2): Conv2d(192, 384, kernel_size=(1, 1), stride=(1, 1), bias=False)\n",
            "          )\n",
            "          (gate): Identity()\n",
            "        )\n",
            "        (bn_l): BatchNorm2d(128, eps=1e-05, momentum=0.1, affine=True, track_running_stats=True)\n",
            "        (bn_g): BatchNorm2d(384, eps=1e-05, momentum=0.1, affine=True, track_running_stats=True)\n",
            "        (act_l): ReLU(inplace=True)\n",
            "        (act_g): ReLU(inplace=True)\n",
            "      )\n",
            "    )\n",
            "    (12): FFCResnetBlock(\n",
            "      (conv1): FFC_BN_ACT(\n",
            "        (ffc): FFC(\n",
            "          (convl2l): Conv2d(128, 128, kernel_size=(3, 3), stride=(1, 1), padding=(1, 1), bias=False, padding_mode=reflect)\n",
            "          (convl2g): Conv2d(128, 384, kernel_size=(3, 3), stride=(1, 1), padding=(1, 1), bias=False, padding_mode=reflect)\n",
            "          (convg2l): Conv2d(384, 128, kernel_size=(3, 3), stride=(1, 1), padding=(1, 1), bias=False, padding_mode=reflect)\n",
            "          (convg2g): SpectralTransform(\n",
            "            (downsample): Identity()\n",
            "            (conv1): Sequential(\n",
            "              (0): Conv2d(384, 192, kernel_size=(1, 1), stride=(1, 1), bias=False)\n",
            "              (1): BatchNorm2d(192, eps=1e-05, momentum=0.1, affine=True, track_running_stats=True)\n",
            "              (2): ReLU(inplace=True)\n",
            "            )\n",
            "            (fu): FourierUnit(\n",
            "              (conv_layer): Conv2d(384, 384, kernel_size=(1, 1), stride=(1, 1), bias=False)\n",
            "              (bn): BatchNorm2d(384, eps=1e-05, momentum=0.1, affine=True, track_running_stats=True)\n",
            "              (relu): ReLU(inplace=True)\n",
            "            )\n",
            "            (conv2): Conv2d(192, 384, kernel_size=(1, 1), stride=(1, 1), bias=False)\n",
            "          )\n",
            "          (gate): Identity()\n",
            "        )\n",
            "        (bn_l): BatchNorm2d(128, eps=1e-05, momentum=0.1, affine=True, track_running_stats=True)\n",
            "        (bn_g): BatchNorm2d(384, eps=1e-05, momentum=0.1, affine=True, track_running_stats=True)\n",
            "        (act_l): ReLU(inplace=True)\n",
            "        (act_g): ReLU(inplace=True)\n",
            "      )\n",
            "      (conv2): FFC_BN_ACT(\n",
            "        (ffc): FFC(\n",
            "          (convl2l): Conv2d(128, 128, kernel_size=(3, 3), stride=(1, 1), padding=(1, 1), bias=False, padding_mode=reflect)\n",
            "          (convl2g): Conv2d(128, 384, kernel_size=(3, 3), stride=(1, 1), padding=(1, 1), bias=False, padding_mode=reflect)\n",
            "          (convg2l): Conv2d(384, 128, kernel_size=(3, 3), stride=(1, 1), padding=(1, 1), bias=False, padding_mode=reflect)\n",
            "          (convg2g): SpectralTransform(\n",
            "            (downsample): Identity()\n",
            "            (conv1): Sequential(\n",
            "              (0): Conv2d(384, 192, kernel_size=(1, 1), stride=(1, 1), bias=False)\n",
            "              (1): BatchNorm2d(192, eps=1e-05, momentum=0.1, affine=True, track_running_stats=True)\n",
            "              (2): ReLU(inplace=True)\n",
            "            )\n",
            "            (fu): FourierUnit(\n",
            "              (conv_layer): Conv2d(384, 384, kernel_size=(1, 1), stride=(1, 1), bias=False)\n",
            "              (bn): BatchNorm2d(384, eps=1e-05, momentum=0.1, affine=True, track_running_stats=True)\n",
            "              (relu): ReLU(inplace=True)\n",
            "            )\n",
            "            (conv2): Conv2d(192, 384, kernel_size=(1, 1), stride=(1, 1), bias=False)\n",
            "          )\n",
            "          (gate): Identity()\n",
            "        )\n",
            "        (bn_l): BatchNorm2d(128, eps=1e-05, momentum=0.1, affine=True, track_running_stats=True)\n",
            "        (bn_g): BatchNorm2d(384, eps=1e-05, momentum=0.1, affine=True, track_running_stats=True)\n",
            "        (act_l): ReLU(inplace=True)\n",
            "        (act_g): ReLU(inplace=True)\n",
            "      )\n",
            "    )\n",
            "    (13): FFCResnetBlock(\n",
            "      (conv1): FFC_BN_ACT(\n",
            "        (ffc): FFC(\n",
            "          (convl2l): Conv2d(128, 128, kernel_size=(3, 3), stride=(1, 1), padding=(1, 1), bias=False, padding_mode=reflect)\n",
            "          (convl2g): Conv2d(128, 384, kernel_size=(3, 3), stride=(1, 1), padding=(1, 1), bias=False, padding_mode=reflect)\n",
            "          (convg2l): Conv2d(384, 128, kernel_size=(3, 3), stride=(1, 1), padding=(1, 1), bias=False, padding_mode=reflect)\n",
            "          (convg2g): SpectralTransform(\n",
            "            (downsample): Identity()\n",
            "            (conv1): Sequential(\n",
            "              (0): Conv2d(384, 192, kernel_size=(1, 1), stride=(1, 1), bias=False)\n",
            "              (1): BatchNorm2d(192, eps=1e-05, momentum=0.1, affine=True, track_running_stats=True)\n",
            "              (2): ReLU(inplace=True)\n",
            "            )\n",
            "            (fu): FourierUnit(\n",
            "              (conv_layer): Conv2d(384, 384, kernel_size=(1, 1), stride=(1, 1), bias=False)\n",
            "              (bn): BatchNorm2d(384, eps=1e-05, momentum=0.1, affine=True, track_running_stats=True)\n",
            "              (relu): ReLU(inplace=True)\n",
            "            )\n",
            "            (conv2): Conv2d(192, 384, kernel_size=(1, 1), stride=(1, 1), bias=False)\n",
            "          )\n",
            "          (gate): Identity()\n",
            "        )\n",
            "        (bn_l): BatchNorm2d(128, eps=1e-05, momentum=0.1, affine=True, track_running_stats=True)\n",
            "        (bn_g): BatchNorm2d(384, eps=1e-05, momentum=0.1, affine=True, track_running_stats=True)\n",
            "        (act_l): ReLU(inplace=True)\n",
            "        (act_g): ReLU(inplace=True)\n",
            "      )\n",
            "      (conv2): FFC_BN_ACT(\n",
            "        (ffc): FFC(\n",
            "          (convl2l): Conv2d(128, 128, kernel_size=(3, 3), stride=(1, 1), padding=(1, 1), bias=False, padding_mode=reflect)\n",
            "          (convl2g): Conv2d(128, 384, kernel_size=(3, 3), stride=(1, 1), padding=(1, 1), bias=False, padding_mode=reflect)\n",
            "          (convg2l): Conv2d(384, 128, kernel_size=(3, 3), stride=(1, 1), padding=(1, 1), bias=False, padding_mode=reflect)\n",
            "          (convg2g): SpectralTransform(\n",
            "            (downsample): Identity()\n",
            "            (conv1): Sequential(\n",
            "              (0): Conv2d(384, 192, kernel_size=(1, 1), stride=(1, 1), bias=False)\n",
            "              (1): BatchNorm2d(192, eps=1e-05, momentum=0.1, affine=True, track_running_stats=True)\n",
            "              (2): ReLU(inplace=True)\n",
            "            )\n",
            "            (fu): FourierUnit(\n",
            "              (conv_layer): Conv2d(384, 384, kernel_size=(1, 1), stride=(1, 1), bias=False)\n",
            "              (bn): BatchNorm2d(384, eps=1e-05, momentum=0.1, affine=True, track_running_stats=True)\n",
            "              (relu): ReLU(inplace=True)\n",
            "            )\n",
            "            (conv2): Conv2d(192, 384, kernel_size=(1, 1), stride=(1, 1), bias=False)\n",
            "          )\n",
            "          (gate): Identity()\n",
            "        )\n",
            "        (bn_l): BatchNorm2d(128, eps=1e-05, momentum=0.1, affine=True, track_running_stats=True)\n",
            "        (bn_g): BatchNorm2d(384, eps=1e-05, momentum=0.1, affine=True, track_running_stats=True)\n",
            "        (act_l): ReLU(inplace=True)\n",
            "        (act_g): ReLU(inplace=True)\n",
            "      )\n",
            "    )\n",
            "    (14): FFCResnetBlock(\n",
            "      (conv1): FFC_BN_ACT(\n",
            "        (ffc): FFC(\n",
            "          (convl2l): Conv2d(128, 128, kernel_size=(3, 3), stride=(1, 1), padding=(1, 1), bias=False, padding_mode=reflect)\n",
            "          (convl2g): Conv2d(128, 384, kernel_size=(3, 3), stride=(1, 1), padding=(1, 1), bias=False, padding_mode=reflect)\n",
            "          (convg2l): Conv2d(384, 128, kernel_size=(3, 3), stride=(1, 1), padding=(1, 1), bias=False, padding_mode=reflect)\n",
            "          (convg2g): SpectralTransform(\n",
            "            (downsample): Identity()\n",
            "            (conv1): Sequential(\n",
            "              (0): Conv2d(384, 192, kernel_size=(1, 1), stride=(1, 1), bias=False)\n",
            "              (1): BatchNorm2d(192, eps=1e-05, momentum=0.1, affine=True, track_running_stats=True)\n",
            "              (2): ReLU(inplace=True)\n",
            "            )\n",
            "            (fu): FourierUnit(\n",
            "              (conv_layer): Conv2d(384, 384, kernel_size=(1, 1), stride=(1, 1), bias=False)\n",
            "              (bn): BatchNorm2d(384, eps=1e-05, momentum=0.1, affine=True, track_running_stats=True)\n",
            "              (relu): ReLU(inplace=True)\n",
            "            )\n",
            "            (conv2): Conv2d(192, 384, kernel_size=(1, 1), stride=(1, 1), bias=False)\n",
            "          )\n",
            "          (gate): Identity()\n",
            "        )\n",
            "        (bn_l): BatchNorm2d(128, eps=1e-05, momentum=0.1, affine=True, track_running_stats=True)\n",
            "        (bn_g): BatchNorm2d(384, eps=1e-05, momentum=0.1, affine=True, track_running_stats=True)\n",
            "        (act_l): ReLU(inplace=True)\n",
            "        (act_g): ReLU(inplace=True)\n",
            "      )\n",
            "      (conv2): FFC_BN_ACT(\n",
            "        (ffc): FFC(\n",
            "          (convl2l): Conv2d(128, 128, kernel_size=(3, 3), stride=(1, 1), padding=(1, 1), bias=False, padding_mode=reflect)\n",
            "          (convl2g): Conv2d(128, 384, kernel_size=(3, 3), stride=(1, 1), padding=(1, 1), bias=False, padding_mode=reflect)\n",
            "          (convg2l): Conv2d(384, 128, kernel_size=(3, 3), stride=(1, 1), padding=(1, 1), bias=False, padding_mode=reflect)\n",
            "          (convg2g): SpectralTransform(\n",
            "            (downsample): Identity()\n",
            "            (conv1): Sequential(\n",
            "              (0): Conv2d(384, 192, kernel_size=(1, 1), stride=(1, 1), bias=False)\n",
            "              (1): BatchNorm2d(192, eps=1e-05, momentum=0.1, affine=True, track_running_stats=True)\n",
            "              (2): ReLU(inplace=True)\n",
            "            )\n",
            "            (fu): FourierUnit(\n",
            "              (conv_layer): Conv2d(384, 384, kernel_size=(1, 1), stride=(1, 1), bias=False)\n",
            "              (bn): BatchNorm2d(384, eps=1e-05, momentum=0.1, affine=True, track_running_stats=True)\n",
            "              (relu): ReLU(inplace=True)\n",
            "            )\n",
            "            (conv2): Conv2d(192, 384, kernel_size=(1, 1), stride=(1, 1), bias=False)\n",
            "          )\n",
            "          (gate): Identity()\n",
            "        )\n",
            "        (bn_l): BatchNorm2d(128, eps=1e-05, momentum=0.1, affine=True, track_running_stats=True)\n",
            "        (bn_g): BatchNorm2d(384, eps=1e-05, momentum=0.1, affine=True, track_running_stats=True)\n",
            "        (act_l): ReLU(inplace=True)\n",
            "        (act_g): ReLU(inplace=True)\n",
            "      )\n",
            "    )\n",
            "    (15): FFCResnetBlock(\n",
            "      (conv1): FFC_BN_ACT(\n",
            "        (ffc): FFC(\n",
            "          (convl2l): Conv2d(128, 128, kernel_size=(3, 3), stride=(1, 1), padding=(1, 1), bias=False, padding_mode=reflect)\n",
            "          (convl2g): Conv2d(128, 384, kernel_size=(3, 3), stride=(1, 1), padding=(1, 1), bias=False, padding_mode=reflect)\n",
            "          (convg2l): Conv2d(384, 128, kernel_size=(3, 3), stride=(1, 1), padding=(1, 1), bias=False, padding_mode=reflect)\n",
            "          (convg2g): SpectralTransform(\n",
            "            (downsample): Identity()\n",
            "            (conv1): Sequential(\n",
            "              (0): Conv2d(384, 192, kernel_size=(1, 1), stride=(1, 1), bias=False)\n",
            "              (1): BatchNorm2d(192, eps=1e-05, momentum=0.1, affine=True, track_running_stats=True)\n",
            "              (2): ReLU(inplace=True)\n",
            "            )\n",
            "            (fu): FourierUnit(\n",
            "              (conv_layer): Conv2d(384, 384, kernel_size=(1, 1), stride=(1, 1), bias=False)\n",
            "              (bn): BatchNorm2d(384, eps=1e-05, momentum=0.1, affine=True, track_running_stats=True)\n",
            "              (relu): ReLU(inplace=True)\n",
            "            )\n",
            "            (conv2): Conv2d(192, 384, kernel_size=(1, 1), stride=(1, 1), bias=False)\n",
            "          )\n",
            "          (gate): Identity()\n",
            "        )\n",
            "        (bn_l): BatchNorm2d(128, eps=1e-05, momentum=0.1, affine=True, track_running_stats=True)\n",
            "        (bn_g): BatchNorm2d(384, eps=1e-05, momentum=0.1, affine=True, track_running_stats=True)\n",
            "        (act_l): ReLU(inplace=True)\n",
            "        (act_g): ReLU(inplace=True)\n",
            "      )\n",
            "      (conv2): FFC_BN_ACT(\n",
            "        (ffc): FFC(\n",
            "          (convl2l): Conv2d(128, 128, kernel_size=(3, 3), stride=(1, 1), padding=(1, 1), bias=False, padding_mode=reflect)\n",
            "          (convl2g): Conv2d(128, 384, kernel_size=(3, 3), stride=(1, 1), padding=(1, 1), bias=False, padding_mode=reflect)\n",
            "          (convg2l): Conv2d(384, 128, kernel_size=(3, 3), stride=(1, 1), padding=(1, 1), bias=False, padding_mode=reflect)\n",
            "          (convg2g): SpectralTransform(\n",
            "            (downsample): Identity()\n",
            "            (conv1): Sequential(\n",
            "              (0): Conv2d(384, 192, kernel_size=(1, 1), stride=(1, 1), bias=False)\n",
            "              (1): BatchNorm2d(192, eps=1e-05, momentum=0.1, affine=True, track_running_stats=True)\n",
            "              (2): ReLU(inplace=True)\n",
            "            )\n",
            "            (fu): FourierUnit(\n",
            "              (conv_layer): Conv2d(384, 384, kernel_size=(1, 1), stride=(1, 1), bias=False)\n",
            "              (bn): BatchNorm2d(384, eps=1e-05, momentum=0.1, affine=True, track_running_stats=True)\n",
            "              (relu): ReLU(inplace=True)\n",
            "            )\n",
            "            (conv2): Conv2d(192, 384, kernel_size=(1, 1), stride=(1, 1), bias=False)\n",
            "          )\n",
            "          (gate): Identity()\n",
            "        )\n",
            "        (bn_l): BatchNorm2d(128, eps=1e-05, momentum=0.1, affine=True, track_running_stats=True)\n",
            "        (bn_g): BatchNorm2d(384, eps=1e-05, momentum=0.1, affine=True, track_running_stats=True)\n",
            "        (act_l): ReLU(inplace=True)\n",
            "        (act_g): ReLU(inplace=True)\n",
            "      )\n",
            "    )\n",
            "    (16): FFCResnetBlock(\n",
            "      (conv1): FFC_BN_ACT(\n",
            "        (ffc): FFC(\n",
            "          (convl2l): Conv2d(128, 128, kernel_size=(3, 3), stride=(1, 1), padding=(1, 1), bias=False, padding_mode=reflect)\n",
            "          (convl2g): Conv2d(128, 384, kernel_size=(3, 3), stride=(1, 1), padding=(1, 1), bias=False, padding_mode=reflect)\n",
            "          (convg2l): Conv2d(384, 128, kernel_size=(3, 3), stride=(1, 1), padding=(1, 1), bias=False, padding_mode=reflect)\n",
            "          (convg2g): SpectralTransform(\n",
            "            (downsample): Identity()\n",
            "            (conv1): Sequential(\n",
            "              (0): Conv2d(384, 192, kernel_size=(1, 1), stride=(1, 1), bias=False)\n",
            "              (1): BatchNorm2d(192, eps=1e-05, momentum=0.1, affine=True, track_running_stats=True)\n",
            "              (2): ReLU(inplace=True)\n",
            "            )\n",
            "            (fu): FourierUnit(\n",
            "              (conv_layer): Conv2d(384, 384, kernel_size=(1, 1), stride=(1, 1), bias=False)\n",
            "              (bn): BatchNorm2d(384, eps=1e-05, momentum=0.1, affine=True, track_running_stats=True)\n",
            "              (relu): ReLU(inplace=True)\n",
            "            )\n",
            "            (conv2): Conv2d(192, 384, kernel_size=(1, 1), stride=(1, 1), bias=False)\n",
            "          )\n",
            "          (gate): Identity()\n",
            "        )\n",
            "        (bn_l): BatchNorm2d(128, eps=1e-05, momentum=0.1, affine=True, track_running_stats=True)\n",
            "        (bn_g): BatchNorm2d(384, eps=1e-05, momentum=0.1, affine=True, track_running_stats=True)\n",
            "        (act_l): ReLU(inplace=True)\n",
            "        (act_g): ReLU(inplace=True)\n",
            "      )\n",
            "      (conv2): FFC_BN_ACT(\n",
            "        (ffc): FFC(\n",
            "          (convl2l): Conv2d(128, 128, kernel_size=(3, 3), stride=(1, 1), padding=(1, 1), bias=False, padding_mode=reflect)\n",
            "          (convl2g): Conv2d(128, 384, kernel_size=(3, 3), stride=(1, 1), padding=(1, 1), bias=False, padding_mode=reflect)\n",
            "          (convg2l): Conv2d(384, 128, kernel_size=(3, 3), stride=(1, 1), padding=(1, 1), bias=False, padding_mode=reflect)\n",
            "          (convg2g): SpectralTransform(\n",
            "            (downsample): Identity()\n",
            "            (conv1): Sequential(\n",
            "              (0): Conv2d(384, 192, kernel_size=(1, 1), stride=(1, 1), bias=False)\n",
            "              (1): BatchNorm2d(192, eps=1e-05, momentum=0.1, affine=True, track_running_stats=True)\n",
            "              (2): ReLU(inplace=True)\n",
            "            )\n",
            "            (fu): FourierUnit(\n",
            "              (conv_layer): Conv2d(384, 384, kernel_size=(1, 1), stride=(1, 1), bias=False)\n",
            "              (bn): BatchNorm2d(384, eps=1e-05, momentum=0.1, affine=True, track_running_stats=True)\n",
            "              (relu): ReLU(inplace=True)\n",
            "            )\n",
            "            (conv2): Conv2d(192, 384, kernel_size=(1, 1), stride=(1, 1), bias=False)\n",
            "          )\n",
            "          (gate): Identity()\n",
            "        )\n",
            "        (bn_l): BatchNorm2d(128, eps=1e-05, momentum=0.1, affine=True, track_running_stats=True)\n",
            "        (bn_g): BatchNorm2d(384, eps=1e-05, momentum=0.1, affine=True, track_running_stats=True)\n",
            "        (act_l): ReLU(inplace=True)\n",
            "        (act_g): ReLU(inplace=True)\n",
            "      )\n",
            "    )\n",
            "    (17): FFCResnetBlock(\n",
            "      (conv1): FFC_BN_ACT(\n",
            "        (ffc): FFC(\n",
            "          (convl2l): Conv2d(128, 128, kernel_size=(3, 3), stride=(1, 1), padding=(1, 1), bias=False, padding_mode=reflect)\n",
            "          (convl2g): Conv2d(128, 384, kernel_size=(3, 3), stride=(1, 1), padding=(1, 1), bias=False, padding_mode=reflect)\n",
            "          (convg2l): Conv2d(384, 128, kernel_size=(3, 3), stride=(1, 1), padding=(1, 1), bias=False, padding_mode=reflect)\n",
            "          (convg2g): SpectralTransform(\n",
            "            (downsample): Identity()\n",
            "            (conv1): Sequential(\n",
            "              (0): Conv2d(384, 192, kernel_size=(1, 1), stride=(1, 1), bias=False)\n",
            "              (1): BatchNorm2d(192, eps=1e-05, momentum=0.1, affine=True, track_running_stats=True)\n",
            "              (2): ReLU(inplace=True)\n",
            "            )\n",
            "            (fu): FourierUnit(\n",
            "              (conv_layer): Conv2d(384, 384, kernel_size=(1, 1), stride=(1, 1), bias=False)\n",
            "              (bn): BatchNorm2d(384, eps=1e-05, momentum=0.1, affine=True, track_running_stats=True)\n",
            "              (relu): ReLU(inplace=True)\n",
            "            )\n",
            "            (conv2): Conv2d(192, 384, kernel_size=(1, 1), stride=(1, 1), bias=False)\n",
            "          )\n",
            "          (gate): Identity()\n",
            "        )\n",
            "        (bn_l): BatchNorm2d(128, eps=1e-05, momentum=0.1, affine=True, track_running_stats=True)\n",
            "        (bn_g): BatchNorm2d(384, eps=1e-05, momentum=0.1, affine=True, track_running_stats=True)\n",
            "        (act_l): ReLU(inplace=True)\n",
            "        (act_g): ReLU(inplace=True)\n",
            "      )\n",
            "      (conv2): FFC_BN_ACT(\n",
            "        (ffc): FFC(\n",
            "          (convl2l): Conv2d(128, 128, kernel_size=(3, 3), stride=(1, 1), padding=(1, 1), bias=False, padding_mode=reflect)\n",
            "          (convl2g): Conv2d(128, 384, kernel_size=(3, 3), stride=(1, 1), padding=(1, 1), bias=False, padding_mode=reflect)\n",
            "          (convg2l): Conv2d(384, 128, kernel_size=(3, 3), stride=(1, 1), padding=(1, 1), bias=False, padding_mode=reflect)\n",
            "          (convg2g): SpectralTransform(\n",
            "            (downsample): Identity()\n",
            "            (conv1): Sequential(\n",
            "              (0): Conv2d(384, 192, kernel_size=(1, 1), stride=(1, 1), bias=False)\n",
            "              (1): BatchNorm2d(192, eps=1e-05, momentum=0.1, affine=True, track_running_stats=True)\n",
            "              (2): ReLU(inplace=True)\n",
            "            )\n",
            "            (fu): FourierUnit(\n",
            "              (conv_layer): Conv2d(384, 384, kernel_size=(1, 1), stride=(1, 1), bias=False)\n",
            "              (bn): BatchNorm2d(384, eps=1e-05, momentum=0.1, affine=True, track_running_stats=True)\n",
            "              (relu): ReLU(inplace=True)\n",
            "            )\n",
            "            (conv2): Conv2d(192, 384, kernel_size=(1, 1), stride=(1, 1), bias=False)\n",
            "          )\n",
            "          (gate): Identity()\n",
            "        )\n",
            "        (bn_l): BatchNorm2d(128, eps=1e-05, momentum=0.1, affine=True, track_running_stats=True)\n",
            "        (bn_g): BatchNorm2d(384, eps=1e-05, momentum=0.1, affine=True, track_running_stats=True)\n",
            "        (act_l): ReLU(inplace=True)\n",
            "        (act_g): ReLU(inplace=True)\n",
            "      )\n",
            "    )\n",
            "    (18): FFCResnetBlock(\n",
            "      (conv1): FFC_BN_ACT(\n",
            "        (ffc): FFC(\n",
            "          (convl2l): Conv2d(128, 128, kernel_size=(3, 3), stride=(1, 1), padding=(1, 1), bias=False, padding_mode=reflect)\n",
            "          (convl2g): Conv2d(128, 384, kernel_size=(3, 3), stride=(1, 1), padding=(1, 1), bias=False, padding_mode=reflect)\n",
            "          (convg2l): Conv2d(384, 128, kernel_size=(3, 3), stride=(1, 1), padding=(1, 1), bias=False, padding_mode=reflect)\n",
            "          (convg2g): SpectralTransform(\n",
            "            (downsample): Identity()\n",
            "            (conv1): Sequential(\n",
            "              (0): Conv2d(384, 192, kernel_size=(1, 1), stride=(1, 1), bias=False)\n",
            "              (1): BatchNorm2d(192, eps=1e-05, momentum=0.1, affine=True, track_running_stats=True)\n",
            "              (2): ReLU(inplace=True)\n",
            "            )\n",
            "            (fu): FourierUnit(\n",
            "              (conv_layer): Conv2d(384, 384, kernel_size=(1, 1), stride=(1, 1), bias=False)\n",
            "              (bn): BatchNorm2d(384, eps=1e-05, momentum=0.1, affine=True, track_running_stats=True)\n",
            "              (relu): ReLU(inplace=True)\n",
            "            )\n",
            "            (conv2): Conv2d(192, 384, kernel_size=(1, 1), stride=(1, 1), bias=False)\n",
            "          )\n",
            "          (gate): Identity()\n",
            "        )\n",
            "        (bn_l): BatchNorm2d(128, eps=1e-05, momentum=0.1, affine=True, track_running_stats=True)\n",
            "        (bn_g): BatchNorm2d(384, eps=1e-05, momentum=0.1, affine=True, track_running_stats=True)\n",
            "        (act_l): ReLU(inplace=True)\n",
            "        (act_g): ReLU(inplace=True)\n",
            "      )\n",
            "      (conv2): FFC_BN_ACT(\n",
            "        (ffc): FFC(\n",
            "          (convl2l): Conv2d(128, 128, kernel_size=(3, 3), stride=(1, 1), padding=(1, 1), bias=False, padding_mode=reflect)\n",
            "          (convl2g): Conv2d(128, 384, kernel_size=(3, 3), stride=(1, 1), padding=(1, 1), bias=False, padding_mode=reflect)\n",
            "          (convg2l): Conv2d(384, 128, kernel_size=(3, 3), stride=(1, 1), padding=(1, 1), bias=False, padding_mode=reflect)\n",
            "          (convg2g): SpectralTransform(\n",
            "            (downsample): Identity()\n",
            "            (conv1): Sequential(\n",
            "              (0): Conv2d(384, 192, kernel_size=(1, 1), stride=(1, 1), bias=False)\n",
            "              (1): BatchNorm2d(192, eps=1e-05, momentum=0.1, affine=True, track_running_stats=True)\n",
            "              (2): ReLU(inplace=True)\n",
            "            )\n",
            "            (fu): FourierUnit(\n",
            "              (conv_layer): Conv2d(384, 384, kernel_size=(1, 1), stride=(1, 1), bias=False)\n",
            "              (bn): BatchNorm2d(384, eps=1e-05, momentum=0.1, affine=True, track_running_stats=True)\n",
            "              (relu): ReLU(inplace=True)\n",
            "            )\n",
            "            (conv2): Conv2d(192, 384, kernel_size=(1, 1), stride=(1, 1), bias=False)\n",
            "          )\n",
            "          (gate): Identity()\n",
            "        )\n",
            "        (bn_l): BatchNorm2d(128, eps=1e-05, momentum=0.1, affine=True, track_running_stats=True)\n",
            "        (bn_g): BatchNorm2d(384, eps=1e-05, momentum=0.1, affine=True, track_running_stats=True)\n",
            "        (act_l): ReLU(inplace=True)\n",
            "        (act_g): ReLU(inplace=True)\n",
            "      )\n",
            "    )\n",
            "    (19): FFCResnetBlock(\n",
            "      (conv1): FFC_BN_ACT(\n",
            "        (ffc): FFC(\n",
            "          (convl2l): Conv2d(128, 128, kernel_size=(3, 3), stride=(1, 1), padding=(1, 1), bias=False, padding_mode=reflect)\n",
            "          (convl2g): Conv2d(128, 384, kernel_size=(3, 3), stride=(1, 1), padding=(1, 1), bias=False, padding_mode=reflect)\n",
            "          (convg2l): Conv2d(384, 128, kernel_size=(3, 3), stride=(1, 1), padding=(1, 1), bias=False, padding_mode=reflect)\n",
            "          (convg2g): SpectralTransform(\n",
            "            (downsample): Identity()\n",
            "            (conv1): Sequential(\n",
            "              (0): Conv2d(384, 192, kernel_size=(1, 1), stride=(1, 1), bias=False)\n",
            "              (1): BatchNorm2d(192, eps=1e-05, momentum=0.1, affine=True, track_running_stats=True)\n",
            "              (2): ReLU(inplace=True)\n",
            "            )\n",
            "            (fu): FourierUnit(\n",
            "              (conv_layer): Conv2d(384, 384, kernel_size=(1, 1), stride=(1, 1), bias=False)\n",
            "              (bn): BatchNorm2d(384, eps=1e-05, momentum=0.1, affine=True, track_running_stats=True)\n",
            "              (relu): ReLU(inplace=True)\n",
            "            )\n",
            "            (conv2): Conv2d(192, 384, kernel_size=(1, 1), stride=(1, 1), bias=False)\n",
            "          )\n",
            "          (gate): Identity()\n",
            "        )\n",
            "        (bn_l): BatchNorm2d(128, eps=1e-05, momentum=0.1, affine=True, track_running_stats=True)\n",
            "        (bn_g): BatchNorm2d(384, eps=1e-05, momentum=0.1, affine=True, track_running_stats=True)\n",
            "        (act_l): ReLU(inplace=True)\n",
            "        (act_g): ReLU(inplace=True)\n",
            "      )\n",
            "      (conv2): FFC_BN_ACT(\n",
            "        (ffc): FFC(\n",
            "          (convl2l): Conv2d(128, 128, kernel_size=(3, 3), stride=(1, 1), padding=(1, 1), bias=False, padding_mode=reflect)\n",
            "          (convl2g): Conv2d(128, 384, kernel_size=(3, 3), stride=(1, 1), padding=(1, 1), bias=False, padding_mode=reflect)\n",
            "          (convg2l): Conv2d(384, 128, kernel_size=(3, 3), stride=(1, 1), padding=(1, 1), bias=False, padding_mode=reflect)\n",
            "          (convg2g): SpectralTransform(\n",
            "            (downsample): Identity()\n",
            "            (conv1): Sequential(\n",
            "              (0): Conv2d(384, 192, kernel_size=(1, 1), stride=(1, 1), bias=False)\n",
            "              (1): BatchNorm2d(192, eps=1e-05, momentum=0.1, affine=True, track_running_stats=True)\n",
            "              (2): ReLU(inplace=True)\n",
            "            )\n",
            "            (fu): FourierUnit(\n",
            "              (conv_layer): Conv2d(384, 384, kernel_size=(1, 1), stride=(1, 1), bias=False)\n",
            "              (bn): BatchNorm2d(384, eps=1e-05, momentum=0.1, affine=True, track_running_stats=True)\n",
            "              (relu): ReLU(inplace=True)\n",
            "            )\n",
            "            (conv2): Conv2d(192, 384, kernel_size=(1, 1), stride=(1, 1), bias=False)\n",
            "          )\n",
            "          (gate): Identity()\n",
            "        )\n",
            "        (bn_l): BatchNorm2d(128, eps=1e-05, momentum=0.1, affine=True, track_running_stats=True)\n",
            "        (bn_g): BatchNorm2d(384, eps=1e-05, momentum=0.1, affine=True, track_running_stats=True)\n",
            "        (act_l): ReLU(inplace=True)\n",
            "        (act_g): ReLU(inplace=True)\n",
            "      )\n",
            "    )\n",
            "    (20): FFCResnetBlock(\n",
            "      (conv1): FFC_BN_ACT(\n",
            "        (ffc): FFC(\n",
            "          (convl2l): Conv2d(128, 128, kernel_size=(3, 3), stride=(1, 1), padding=(1, 1), bias=False, padding_mode=reflect)\n",
            "          (convl2g): Conv2d(128, 384, kernel_size=(3, 3), stride=(1, 1), padding=(1, 1), bias=False, padding_mode=reflect)\n",
            "          (convg2l): Conv2d(384, 128, kernel_size=(3, 3), stride=(1, 1), padding=(1, 1), bias=False, padding_mode=reflect)\n",
            "          (convg2g): SpectralTransform(\n",
            "            (downsample): Identity()\n",
            "            (conv1): Sequential(\n",
            "              (0): Conv2d(384, 192, kernel_size=(1, 1), stride=(1, 1), bias=False)\n",
            "              (1): BatchNorm2d(192, eps=1e-05, momentum=0.1, affine=True, track_running_stats=True)\n",
            "              (2): ReLU(inplace=True)\n",
            "            )\n",
            "            (fu): FourierUnit(\n",
            "              (conv_layer): Conv2d(384, 384, kernel_size=(1, 1), stride=(1, 1), bias=False)\n",
            "              (bn): BatchNorm2d(384, eps=1e-05, momentum=0.1, affine=True, track_running_stats=True)\n",
            "              (relu): ReLU(inplace=True)\n",
            "            )\n",
            "            (conv2): Conv2d(192, 384, kernel_size=(1, 1), stride=(1, 1), bias=False)\n",
            "          )\n",
            "          (gate): Identity()\n",
            "        )\n",
            "        (bn_l): BatchNorm2d(128, eps=1e-05, momentum=0.1, affine=True, track_running_stats=True)\n",
            "        (bn_g): BatchNorm2d(384, eps=1e-05, momentum=0.1, affine=True, track_running_stats=True)\n",
            "        (act_l): ReLU(inplace=True)\n",
            "        (act_g): ReLU(inplace=True)\n",
            "      )\n",
            "      (conv2): FFC_BN_ACT(\n",
            "        (ffc): FFC(\n",
            "          (convl2l): Conv2d(128, 128, kernel_size=(3, 3), stride=(1, 1), padding=(1, 1), bias=False, padding_mode=reflect)\n",
            "          (convl2g): Conv2d(128, 384, kernel_size=(3, 3), stride=(1, 1), padding=(1, 1), bias=False, padding_mode=reflect)\n",
            "          (convg2l): Conv2d(384, 128, kernel_size=(3, 3), stride=(1, 1), padding=(1, 1), bias=False, padding_mode=reflect)\n",
            "          (convg2g): SpectralTransform(\n",
            "            (downsample): Identity()\n",
            "            (conv1): Sequential(\n",
            "              (0): Conv2d(384, 192, kernel_size=(1, 1), stride=(1, 1), bias=False)\n",
            "              (1): BatchNorm2d(192, eps=1e-05, momentum=0.1, affine=True, track_running_stats=True)\n",
            "              (2): ReLU(inplace=True)\n",
            "            )\n",
            "            (fu): FourierUnit(\n",
            "              (conv_layer): Conv2d(384, 384, kernel_size=(1, 1), stride=(1, 1), bias=False)\n",
            "              (bn): BatchNorm2d(384, eps=1e-05, momentum=0.1, affine=True, track_running_stats=True)\n",
            "              (relu): ReLU(inplace=True)\n",
            "            )\n",
            "            (conv2): Conv2d(192, 384, kernel_size=(1, 1), stride=(1, 1), bias=False)\n",
            "          )\n",
            "          (gate): Identity()\n",
            "        )\n",
            "        (bn_l): BatchNorm2d(128, eps=1e-05, momentum=0.1, affine=True, track_running_stats=True)\n",
            "        (bn_g): BatchNorm2d(384, eps=1e-05, momentum=0.1, affine=True, track_running_stats=True)\n",
            "        (act_l): ReLU(inplace=True)\n",
            "        (act_g): ReLU(inplace=True)\n",
            "      )\n",
            "    )\n",
            "    (21): FFCResnetBlock(\n",
            "      (conv1): FFC_BN_ACT(\n",
            "        (ffc): FFC(\n",
            "          (convl2l): Conv2d(128, 128, kernel_size=(3, 3), stride=(1, 1), padding=(1, 1), bias=False, padding_mode=reflect)\n",
            "          (convl2g): Conv2d(128, 384, kernel_size=(3, 3), stride=(1, 1), padding=(1, 1), bias=False, padding_mode=reflect)\n",
            "          (convg2l): Conv2d(384, 128, kernel_size=(3, 3), stride=(1, 1), padding=(1, 1), bias=False, padding_mode=reflect)\n",
            "          (convg2g): SpectralTransform(\n",
            "            (downsample): Identity()\n",
            "            (conv1): Sequential(\n",
            "              (0): Conv2d(384, 192, kernel_size=(1, 1), stride=(1, 1), bias=False)\n",
            "              (1): BatchNorm2d(192, eps=1e-05, momentum=0.1, affine=True, track_running_stats=True)\n",
            "              (2): ReLU(inplace=True)\n",
            "            )\n",
            "            (fu): FourierUnit(\n",
            "              (conv_layer): Conv2d(384, 384, kernel_size=(1, 1), stride=(1, 1), bias=False)\n",
            "              (bn): BatchNorm2d(384, eps=1e-05, momentum=0.1, affine=True, track_running_stats=True)\n",
            "              (relu): ReLU(inplace=True)\n",
            "            )\n",
            "            (conv2): Conv2d(192, 384, kernel_size=(1, 1), stride=(1, 1), bias=False)\n",
            "          )\n",
            "          (gate): Identity()\n",
            "        )\n",
            "        (bn_l): BatchNorm2d(128, eps=1e-05, momentum=0.1, affine=True, track_running_stats=True)\n",
            "        (bn_g): BatchNorm2d(384, eps=1e-05, momentum=0.1, affine=True, track_running_stats=True)\n",
            "        (act_l): ReLU(inplace=True)\n",
            "        (act_g): ReLU(inplace=True)\n",
            "      )\n",
            "      (conv2): FFC_BN_ACT(\n",
            "        (ffc): FFC(\n",
            "          (convl2l): Conv2d(128, 128, kernel_size=(3, 3), stride=(1, 1), padding=(1, 1), bias=False, padding_mode=reflect)\n",
            "          (convl2g): Conv2d(128, 384, kernel_size=(3, 3), stride=(1, 1), padding=(1, 1), bias=False, padding_mode=reflect)\n",
            "          (convg2l): Conv2d(384, 128, kernel_size=(3, 3), stride=(1, 1), padding=(1, 1), bias=False, padding_mode=reflect)\n",
            "          (convg2g): SpectralTransform(\n",
            "            (downsample): Identity()\n",
            "            (conv1): Sequential(\n",
            "              (0): Conv2d(384, 192, kernel_size=(1, 1), stride=(1, 1), bias=False)\n",
            "              (1): BatchNorm2d(192, eps=1e-05, momentum=0.1, affine=True, track_running_stats=True)\n",
            "              (2): ReLU(inplace=True)\n",
            "            )\n",
            "            (fu): FourierUnit(\n",
            "              (conv_layer): Conv2d(384, 384, kernel_size=(1, 1), stride=(1, 1), bias=False)\n",
            "              (bn): BatchNorm2d(384, eps=1e-05, momentum=0.1, affine=True, track_running_stats=True)\n",
            "              (relu): ReLU(inplace=True)\n",
            "            )\n",
            "            (conv2): Conv2d(192, 384, kernel_size=(1, 1), stride=(1, 1), bias=False)\n",
            "          )\n",
            "          (gate): Identity()\n",
            "        )\n",
            "        (bn_l): BatchNorm2d(128, eps=1e-05, momentum=0.1, affine=True, track_running_stats=True)\n",
            "        (bn_g): BatchNorm2d(384, eps=1e-05, momentum=0.1, affine=True, track_running_stats=True)\n",
            "        (act_l): ReLU(inplace=True)\n",
            "        (act_g): ReLU(inplace=True)\n",
            "      )\n",
            "    )\n",
            "    (22): FFCResnetBlock(\n",
            "      (conv1): FFC_BN_ACT(\n",
            "        (ffc): FFC(\n",
            "          (convl2l): Conv2d(128, 128, kernel_size=(3, 3), stride=(1, 1), padding=(1, 1), bias=False, padding_mode=reflect)\n",
            "          (convl2g): Conv2d(128, 384, kernel_size=(3, 3), stride=(1, 1), padding=(1, 1), bias=False, padding_mode=reflect)\n",
            "          (convg2l): Conv2d(384, 128, kernel_size=(3, 3), stride=(1, 1), padding=(1, 1), bias=False, padding_mode=reflect)\n",
            "          (convg2g): SpectralTransform(\n",
            "            (downsample): Identity()\n",
            "            (conv1): Sequential(\n",
            "              (0): Conv2d(384, 192, kernel_size=(1, 1), stride=(1, 1), bias=False)\n",
            "              (1): BatchNorm2d(192, eps=1e-05, momentum=0.1, affine=True, track_running_stats=True)\n",
            "              (2): ReLU(inplace=True)\n",
            "            )\n",
            "            (fu): FourierUnit(\n",
            "              (conv_layer): Conv2d(384, 384, kernel_size=(1, 1), stride=(1, 1), bias=False)\n",
            "              (bn): BatchNorm2d(384, eps=1e-05, momentum=0.1, affine=True, track_running_stats=True)\n",
            "              (relu): ReLU(inplace=True)\n",
            "            )\n",
            "            (conv2): Conv2d(192, 384, kernel_size=(1, 1), stride=(1, 1), bias=False)\n",
            "          )\n",
            "          (gate): Identity()\n",
            "        )\n",
            "        (bn_l): BatchNorm2d(128, eps=1e-05, momentum=0.1, affine=True, track_running_stats=True)\n",
            "        (bn_g): BatchNorm2d(384, eps=1e-05, momentum=0.1, affine=True, track_running_stats=True)\n",
            "        (act_l): ReLU(inplace=True)\n",
            "        (act_g): ReLU(inplace=True)\n",
            "      )\n",
            "      (conv2): FFC_BN_ACT(\n",
            "        (ffc): FFC(\n",
            "          (convl2l): Conv2d(128, 128, kernel_size=(3, 3), stride=(1, 1), padding=(1, 1), bias=False, padding_mode=reflect)\n",
            "          (convl2g): Conv2d(128, 384, kernel_size=(3, 3), stride=(1, 1), padding=(1, 1), bias=False, padding_mode=reflect)\n",
            "          (convg2l): Conv2d(384, 128, kernel_size=(3, 3), stride=(1, 1), padding=(1, 1), bias=False, padding_mode=reflect)\n",
            "          (convg2g): SpectralTransform(\n",
            "            (downsample): Identity()\n",
            "            (conv1): Sequential(\n",
            "              (0): Conv2d(384, 192, kernel_size=(1, 1), stride=(1, 1), bias=False)\n",
            "              (1): BatchNorm2d(192, eps=1e-05, momentum=0.1, affine=True, track_running_stats=True)\n",
            "              (2): ReLU(inplace=True)\n",
            "            )\n",
            "            (fu): FourierUnit(\n",
            "              (conv_layer): Conv2d(384, 384, kernel_size=(1, 1), stride=(1, 1), bias=False)\n",
            "              (bn): BatchNorm2d(384, eps=1e-05, momentum=0.1, affine=True, track_running_stats=True)\n",
            "              (relu): ReLU(inplace=True)\n",
            "            )\n",
            "            (conv2): Conv2d(192, 384, kernel_size=(1, 1), stride=(1, 1), bias=False)\n",
            "          )\n",
            "          (gate): Identity()\n",
            "        )\n",
            "        (bn_l): BatchNorm2d(128, eps=1e-05, momentum=0.1, affine=True, track_running_stats=True)\n",
            "        (bn_g): BatchNorm2d(384, eps=1e-05, momentum=0.1, affine=True, track_running_stats=True)\n",
            "        (act_l): ReLU(inplace=True)\n",
            "        (act_g): ReLU(inplace=True)\n",
            "      )\n",
            "    )\n",
            "    (23): ConcatTupleLayer()\n",
            "    (24): ConvTranspose2d(512, 256, kernel_size=(3, 3), stride=(2, 2), padding=(1, 1), output_padding=(1, 1))\n",
            "    (25): BatchNorm2d(256, eps=1e-05, momentum=0.1, affine=True, track_running_stats=True)\n",
            "    (26): ReLU(inplace=True)\n",
            "    (27): ConvTranspose2d(256, 128, kernel_size=(3, 3), stride=(2, 2), padding=(1, 1), output_padding=(1, 1))\n",
            "    (28): BatchNorm2d(128, eps=1e-05, momentum=0.1, affine=True, track_running_stats=True)\n",
            "    (29): ReLU(inplace=True)\n",
            "    (30): ConvTranspose2d(128, 64, kernel_size=(3, 3), stride=(2, 2), padding=(1, 1), output_padding=(1, 1))\n",
            "    (31): BatchNorm2d(64, eps=1e-05, momentum=0.1, affine=True, track_running_stats=True)\n",
            "    (32): ReLU(inplace=True)\n",
            "    (33): ReflectionPad2d((3, 3, 3, 3))\n",
            "    (34): Conv2d(64, 3, kernel_size=(7, 7), stride=(1, 1))\n",
            "    (35): Sigmoid()\n",
            "  )\n",
            ")\n",
            "[2024-01-07 10:05:18,395][saicinpainting.training.trainers.base][INFO] - BaseInpaintingTrainingModule init done\n",
            "[2024-01-07 10:05:19,063][saicinpainting.training.data.datasets][INFO] - Make val dataloader default from /content/lama/../sample_data/Test/\n",
            "100% 1/1 [00:03<00:00,  3.33s/it]\n"
          ]
        }
      ],
      "source": [
        "!python3 predict.py model.path=$(pwd)/big-lama indir=$(pwd)/../sample_data/Test outdir=$(pwd)/output"
      ]
    }
  ],
  "metadata": {
    "accelerator": "GPU",
    "colab": {
      "provenance": []
    },
    "kernelspec": {
      "display_name": "Python 3",
      "name": "python3"
    },
    "language_info": {
      "name": "python"
    }
  },
  "nbformat": 4,
  "nbformat_minor": 0
}